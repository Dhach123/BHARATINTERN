{
  "cells": [
    {
      "cell_type": "markdown",
      "source": [
        "#TITANIC Survival Report"
      ],
      "metadata": {
        "id": "6xxdDrWQOnFA"
      },
      "id": "6xxdDrWQOnFA"
    },
    {
      "cell_type": "code",
      "execution_count": 84,
      "id": "263dcc98",
      "metadata": {
        "execution": {
          "iopub.execute_input": "2022-11-25T17:11:54.083938Z",
          "iopub.status.busy": "2022-11-25T17:11:54.083181Z",
          "iopub.status.idle": "2022-11-25T17:11:55.732504Z",
          "shell.execute_reply": "2022-11-25T17:11:55.730917Z"
        },
        "papermill": {
          "duration": 1.671082,
          "end_time": "2022-11-25T17:11:55.735306",
          "exception": false,
          "start_time": "2022-11-25T17:11:54.064224",
          "status": "completed"
        },
        "tags": [],
        "id": "263dcc98"
      },
      "outputs": [],
      "source": [
        "import numpy as np # linear algebra\n",
        "import pandas as pd # data processing, CSV file I/O (e.g. pd.read_csv)\n",
        "import seaborn as sns\n",
        "import matplotlib.pyplot as plt\n",
        "import missingno as msno\n",
        "from sklearn.model_selection import train_test_split,cross_val_score,ShuffleSplit\n",
        "from sklearn.preprocessing import OneHotEncoder,StandardScaler\n",
        "from sklearn.compose import ColumnTransformer\n",
        "from sklearn.pipeline import Pipeline,make_pipeline\n",
        "from sklearn.linear_model import LogisticRegression\n",
        "from sklearn.metrics import accuracy_score,confusion_matrix,ConfusionMatrixDisplay\n",
        "from sklearn.tree import DecisionTreeClassifier as DTC\n",
        "from sklearn.impute import SimpleImputer\n",
        "import warnings\n",
        "warnings.filterwarnings('ignore') #Warning disable function\n",
        "\n"
      ]
    },
    {
      "cell_type": "code",
      "source": [
        "from google.colab import drive\n",
        "drive.mount('/content/drive')"
      ],
      "metadata": {
        "colab": {
          "base_uri": "https://localhost:8080/"
        },
        "id": "xvlI5M8COVJ7",
        "outputId": "3500c074-ff67-4f83-e8a7-299c8628e722"
      },
      "id": "xvlI5M8COVJ7",
      "execution_count": 85,
      "outputs": [
        {
          "output_type": "stream",
          "name": "stdout",
          "text": [
            "Drive already mounted at /content/drive; to attempt to forcibly remount, call drive.mount(\"/content/drive\", force_remount=True).\n"
          ]
        }
      ]
    },
    {
      "cell_type": "code",
      "execution_count": 86,
      "id": "988f47f2",
      "metadata": {
        "execution": {
          "iopub.execute_input": "2022-11-25T17:11:55.763398Z",
          "iopub.status.busy": "2022-11-25T17:11:55.762962Z",
          "iopub.status.idle": "2022-11-25T17:11:55.785245Z",
          "shell.execute_reply": "2022-11-25T17:11:55.783941Z"
        },
        "papermill": {
          "duration": 0.040976,
          "end_time": "2022-11-25T17:11:55.788095",
          "exception": false,
          "start_time": "2022-11-25T17:11:55.747119",
          "status": "completed"
        },
        "tags": [],
        "id": "988f47f2"
      },
      "outputs": [],
      "source": [
        "# load train dataset\n",
        "Ship = pd.read_csv(\"/content/drive/MyDrive/Colab_data_files/titanic/train.csv\")\n"
      ]
    },
    {
      "cell_type": "code",
      "execution_count": 87,
      "id": "fc8a04af",
      "metadata": {
        "execution": {
          "iopub.execute_input": "2022-11-25T17:11:55.814591Z",
          "iopub.status.busy": "2022-11-25T17:11:55.813762Z",
          "iopub.status.idle": "2022-11-25T17:11:55.851165Z",
          "shell.execute_reply": "2022-11-25T17:11:55.849987Z"
        },
        "papermill": {
          "duration": 0.053623,
          "end_time": "2022-11-25T17:11:55.853484",
          "exception": false,
          "start_time": "2022-11-25T17:11:55.799861",
          "status": "completed"
        },
        "tags": [],
        "id": "fc8a04af",
        "colab": {
          "base_uri": "https://localhost:8080/",
          "height": 258
        },
        "outputId": "c1a2548c-8325-4044-95a3-a446c1df78b8"
      },
      "outputs": [
        {
          "output_type": "execute_result",
          "data": {
            "text/plain": [
              "   PassengerId  Survived  Pclass  \\\n",
              "0            1         0       3   \n",
              "1            2         1       1   \n",
              "2            3         1       3   \n",
              "3            4         1       1   \n",
              "4            5         0       3   \n",
              "\n",
              "                                                Name     Sex   Age  SibSp  \\\n",
              "0                            Braund, Mr. Owen Harris    male  22.0      1   \n",
              "1  Cumings, Mrs. John Bradley (Florence Briggs Th...  female  38.0      1   \n",
              "2                             Heikkinen, Miss. Laina  female  26.0      0   \n",
              "3       Futrelle, Mrs. Jacques Heath (Lily May Peel)  female  35.0      1   \n",
              "4                           Allen, Mr. William Henry    male  35.0      0   \n",
              "\n",
              "   Parch            Ticket     Fare Cabin Embarked  \n",
              "0      0         A/5 21171   7.2500   NaN        S  \n",
              "1      0          PC 17599  71.2833   C85        C  \n",
              "2      0  STON/O2. 3101282   7.9250   NaN        S  \n",
              "3      0            113803  53.1000  C123        S  \n",
              "4      0            373450   8.0500   NaN        S  "
            ],
            "text/html": [
              "\n",
              "  <div id=\"df-3fd43691-33d4-42fd-9846-8c608eccfd5d\" class=\"colab-df-container\">\n",
              "    <div>\n",
              "<style scoped>\n",
              "    .dataframe tbody tr th:only-of-type {\n",
              "        vertical-align: middle;\n",
              "    }\n",
              "\n",
              "    .dataframe tbody tr th {\n",
              "        vertical-align: top;\n",
              "    }\n",
              "\n",
              "    .dataframe thead th {\n",
              "        text-align: right;\n",
              "    }\n",
              "</style>\n",
              "<table border=\"1\" class=\"dataframe\">\n",
              "  <thead>\n",
              "    <tr style=\"text-align: right;\">\n",
              "      <th></th>\n",
              "      <th>PassengerId</th>\n",
              "      <th>Survived</th>\n",
              "      <th>Pclass</th>\n",
              "      <th>Name</th>\n",
              "      <th>Sex</th>\n",
              "      <th>Age</th>\n",
              "      <th>SibSp</th>\n",
              "      <th>Parch</th>\n",
              "      <th>Ticket</th>\n",
              "      <th>Fare</th>\n",
              "      <th>Cabin</th>\n",
              "      <th>Embarked</th>\n",
              "    </tr>\n",
              "  </thead>\n",
              "  <tbody>\n",
              "    <tr>\n",
              "      <th>0</th>\n",
              "      <td>1</td>\n",
              "      <td>0</td>\n",
              "      <td>3</td>\n",
              "      <td>Braund, Mr. Owen Harris</td>\n",
              "      <td>male</td>\n",
              "      <td>22.0</td>\n",
              "      <td>1</td>\n",
              "      <td>0</td>\n",
              "      <td>A/5 21171</td>\n",
              "      <td>7.2500</td>\n",
              "      <td>NaN</td>\n",
              "      <td>S</td>\n",
              "    </tr>\n",
              "    <tr>\n",
              "      <th>1</th>\n",
              "      <td>2</td>\n",
              "      <td>1</td>\n",
              "      <td>1</td>\n",
              "      <td>Cumings, Mrs. John Bradley (Florence Briggs Th...</td>\n",
              "      <td>female</td>\n",
              "      <td>38.0</td>\n",
              "      <td>1</td>\n",
              "      <td>0</td>\n",
              "      <td>PC 17599</td>\n",
              "      <td>71.2833</td>\n",
              "      <td>C85</td>\n",
              "      <td>C</td>\n",
              "    </tr>\n",
              "    <tr>\n",
              "      <th>2</th>\n",
              "      <td>3</td>\n",
              "      <td>1</td>\n",
              "      <td>3</td>\n",
              "      <td>Heikkinen, Miss. Laina</td>\n",
              "      <td>female</td>\n",
              "      <td>26.0</td>\n",
              "      <td>0</td>\n",
              "      <td>0</td>\n",
              "      <td>STON/O2. 3101282</td>\n",
              "      <td>7.9250</td>\n",
              "      <td>NaN</td>\n",
              "      <td>S</td>\n",
              "    </tr>\n",
              "    <tr>\n",
              "      <th>3</th>\n",
              "      <td>4</td>\n",
              "      <td>1</td>\n",
              "      <td>1</td>\n",
              "      <td>Futrelle, Mrs. Jacques Heath (Lily May Peel)</td>\n",
              "      <td>female</td>\n",
              "      <td>35.0</td>\n",
              "      <td>1</td>\n",
              "      <td>0</td>\n",
              "      <td>113803</td>\n",
              "      <td>53.1000</td>\n",
              "      <td>C123</td>\n",
              "      <td>S</td>\n",
              "    </tr>\n",
              "    <tr>\n",
              "      <th>4</th>\n",
              "      <td>5</td>\n",
              "      <td>0</td>\n",
              "      <td>3</td>\n",
              "      <td>Allen, Mr. William Henry</td>\n",
              "      <td>male</td>\n",
              "      <td>35.0</td>\n",
              "      <td>0</td>\n",
              "      <td>0</td>\n",
              "      <td>373450</td>\n",
              "      <td>8.0500</td>\n",
              "      <td>NaN</td>\n",
              "      <td>S</td>\n",
              "    </tr>\n",
              "  </tbody>\n",
              "</table>\n",
              "</div>\n",
              "    <div class=\"colab-df-buttons\">\n",
              "\n",
              "  <div class=\"colab-df-container\">\n",
              "    <button class=\"colab-df-convert\" onclick=\"convertToInteractive('df-3fd43691-33d4-42fd-9846-8c608eccfd5d')\"\n",
              "            title=\"Convert this dataframe to an interactive table.\"\n",
              "            style=\"display:none;\">\n",
              "\n",
              "  <svg xmlns=\"http://www.w3.org/2000/svg\" height=\"24px\" viewBox=\"0 -960 960 960\">\n",
              "    <path d=\"M120-120v-720h720v720H120Zm60-500h600v-160H180v160Zm220 220h160v-160H400v160Zm0 220h160v-160H400v160ZM180-400h160v-160H180v160Zm440 0h160v-160H620v160ZM180-180h160v-160H180v160Zm440 0h160v-160H620v160Z\"/>\n",
              "  </svg>\n",
              "    </button>\n",
              "\n",
              "  <style>\n",
              "    .colab-df-container {\n",
              "      display:flex;\n",
              "      gap: 12px;\n",
              "    }\n",
              "\n",
              "    .colab-df-convert {\n",
              "      background-color: #E8F0FE;\n",
              "      border: none;\n",
              "      border-radius: 50%;\n",
              "      cursor: pointer;\n",
              "      display: none;\n",
              "      fill: #1967D2;\n",
              "      height: 32px;\n",
              "      padding: 0 0 0 0;\n",
              "      width: 32px;\n",
              "    }\n",
              "\n",
              "    .colab-df-convert:hover {\n",
              "      background-color: #E2EBFA;\n",
              "      box-shadow: 0px 1px 2px rgba(60, 64, 67, 0.3), 0px 1px 3px 1px rgba(60, 64, 67, 0.15);\n",
              "      fill: #174EA6;\n",
              "    }\n",
              "\n",
              "    .colab-df-buttons div {\n",
              "      margin-bottom: 4px;\n",
              "    }\n",
              "\n",
              "    [theme=dark] .colab-df-convert {\n",
              "      background-color: #3B4455;\n",
              "      fill: #D2E3FC;\n",
              "    }\n",
              "\n",
              "    [theme=dark] .colab-df-convert:hover {\n",
              "      background-color: #434B5C;\n",
              "      box-shadow: 0px 1px 3px 1px rgba(0, 0, 0, 0.15);\n",
              "      filter: drop-shadow(0px 1px 2px rgba(0, 0, 0, 0.3));\n",
              "      fill: #FFFFFF;\n",
              "    }\n",
              "  </style>\n",
              "\n",
              "    <script>\n",
              "      const buttonEl =\n",
              "        document.querySelector('#df-3fd43691-33d4-42fd-9846-8c608eccfd5d button.colab-df-convert');\n",
              "      buttonEl.style.display =\n",
              "        google.colab.kernel.accessAllowed ? 'block' : 'none';\n",
              "\n",
              "      async function convertToInteractive(key) {\n",
              "        const element = document.querySelector('#df-3fd43691-33d4-42fd-9846-8c608eccfd5d');\n",
              "        const dataTable =\n",
              "          await google.colab.kernel.invokeFunction('convertToInteractive',\n",
              "                                                    [key], {});\n",
              "        if (!dataTable) return;\n",
              "\n",
              "        const docLinkHtml = 'Like what you see? Visit the ' +\n",
              "          '<a target=\"_blank\" href=https://colab.research.google.com/notebooks/data_table.ipynb>data table notebook</a>'\n",
              "          + ' to learn more about interactive tables.';\n",
              "        element.innerHTML = '';\n",
              "        dataTable['output_type'] = 'display_data';\n",
              "        await google.colab.output.renderOutput(dataTable, element);\n",
              "        const docLink = document.createElement('div');\n",
              "        docLink.innerHTML = docLinkHtml;\n",
              "        element.appendChild(docLink);\n",
              "      }\n",
              "    </script>\n",
              "  </div>\n",
              "\n",
              "\n",
              "<div id=\"df-4052cf88-55fa-45e6-ab5f-d162012fc54d\">\n",
              "  <button class=\"colab-df-quickchart\" onclick=\"quickchart('df-4052cf88-55fa-45e6-ab5f-d162012fc54d')\"\n",
              "            title=\"Suggest charts\"\n",
              "            style=\"display:none;\">\n",
              "\n",
              "<svg xmlns=\"http://www.w3.org/2000/svg\" height=\"24px\"viewBox=\"0 0 24 24\"\n",
              "     width=\"24px\">\n",
              "    <g>\n",
              "        <path d=\"M19 3H5c-1.1 0-2 .9-2 2v14c0 1.1.9 2 2 2h14c1.1 0 2-.9 2-2V5c0-1.1-.9-2-2-2zM9 17H7v-7h2v7zm4 0h-2V7h2v10zm4 0h-2v-4h2v4z\"/>\n",
              "    </g>\n",
              "</svg>\n",
              "  </button>\n",
              "\n",
              "<style>\n",
              "  .colab-df-quickchart {\n",
              "      --bg-color: #E8F0FE;\n",
              "      --fill-color: #1967D2;\n",
              "      --hover-bg-color: #E2EBFA;\n",
              "      --hover-fill-color: #174EA6;\n",
              "      --disabled-fill-color: #AAA;\n",
              "      --disabled-bg-color: #DDD;\n",
              "  }\n",
              "\n",
              "  [theme=dark] .colab-df-quickchart {\n",
              "      --bg-color: #3B4455;\n",
              "      --fill-color: #D2E3FC;\n",
              "      --hover-bg-color: #434B5C;\n",
              "      --hover-fill-color: #FFFFFF;\n",
              "      --disabled-bg-color: #3B4455;\n",
              "      --disabled-fill-color: #666;\n",
              "  }\n",
              "\n",
              "  .colab-df-quickchart {\n",
              "    background-color: var(--bg-color);\n",
              "    border: none;\n",
              "    border-radius: 50%;\n",
              "    cursor: pointer;\n",
              "    display: none;\n",
              "    fill: var(--fill-color);\n",
              "    height: 32px;\n",
              "    padding: 0;\n",
              "    width: 32px;\n",
              "  }\n",
              "\n",
              "  .colab-df-quickchart:hover {\n",
              "    background-color: var(--hover-bg-color);\n",
              "    box-shadow: 0 1px 2px rgba(60, 64, 67, 0.3), 0 1px 3px 1px rgba(60, 64, 67, 0.15);\n",
              "    fill: var(--button-hover-fill-color);\n",
              "  }\n",
              "\n",
              "  .colab-df-quickchart-complete:disabled,\n",
              "  .colab-df-quickchart-complete:disabled:hover {\n",
              "    background-color: var(--disabled-bg-color);\n",
              "    fill: var(--disabled-fill-color);\n",
              "    box-shadow: none;\n",
              "  }\n",
              "\n",
              "  .colab-df-spinner {\n",
              "    border: 2px solid var(--fill-color);\n",
              "    border-color: transparent;\n",
              "    border-bottom-color: var(--fill-color);\n",
              "    animation:\n",
              "      spin 1s steps(1) infinite;\n",
              "  }\n",
              "\n",
              "  @keyframes spin {\n",
              "    0% {\n",
              "      border-color: transparent;\n",
              "      border-bottom-color: var(--fill-color);\n",
              "      border-left-color: var(--fill-color);\n",
              "    }\n",
              "    20% {\n",
              "      border-color: transparent;\n",
              "      border-left-color: var(--fill-color);\n",
              "      border-top-color: var(--fill-color);\n",
              "    }\n",
              "    30% {\n",
              "      border-color: transparent;\n",
              "      border-left-color: var(--fill-color);\n",
              "      border-top-color: var(--fill-color);\n",
              "      border-right-color: var(--fill-color);\n",
              "    }\n",
              "    40% {\n",
              "      border-color: transparent;\n",
              "      border-right-color: var(--fill-color);\n",
              "      border-top-color: var(--fill-color);\n",
              "    }\n",
              "    60% {\n",
              "      border-color: transparent;\n",
              "      border-right-color: var(--fill-color);\n",
              "    }\n",
              "    80% {\n",
              "      border-color: transparent;\n",
              "      border-right-color: var(--fill-color);\n",
              "      border-bottom-color: var(--fill-color);\n",
              "    }\n",
              "    90% {\n",
              "      border-color: transparent;\n",
              "      border-bottom-color: var(--fill-color);\n",
              "    }\n",
              "  }\n",
              "</style>\n",
              "\n",
              "  <script>\n",
              "    async function quickchart(key) {\n",
              "      const quickchartButtonEl =\n",
              "        document.querySelector('#' + key + ' button');\n",
              "      quickchartButtonEl.disabled = true;  // To prevent multiple clicks.\n",
              "      quickchartButtonEl.classList.add('colab-df-spinner');\n",
              "      try {\n",
              "        const charts = await google.colab.kernel.invokeFunction(\n",
              "            'suggestCharts', [key], {});\n",
              "      } catch (error) {\n",
              "        console.error('Error during call to suggestCharts:', error);\n",
              "      }\n",
              "      quickchartButtonEl.classList.remove('colab-df-spinner');\n",
              "      quickchartButtonEl.classList.add('colab-df-quickchart-complete');\n",
              "    }\n",
              "    (() => {\n",
              "      let quickchartButtonEl =\n",
              "        document.querySelector('#df-4052cf88-55fa-45e6-ab5f-d162012fc54d button');\n",
              "      quickchartButtonEl.style.display =\n",
              "        google.colab.kernel.accessAllowed ? 'block' : 'none';\n",
              "    })();\n",
              "  </script>\n",
              "</div>\n",
              "\n",
              "    </div>\n",
              "  </div>\n"
            ]
          },
          "metadata": {},
          "execution_count": 87
        }
      ],
      "source": [
        "Ship.head()\n",
        "#First 5 rows"
      ]
    },
    {
      "cell_type": "code",
      "execution_count": 88,
      "id": "bf1504b9",
      "metadata": {
        "execution": {
          "iopub.execute_input": "2022-11-25T17:11:55.879807Z",
          "iopub.status.busy": "2022-11-25T17:11:55.879370Z",
          "iopub.status.idle": "2022-11-25T17:11:55.886599Z",
          "shell.execute_reply": "2022-11-25T17:11:55.885231Z"
        },
        "papermill": {
          "duration": 0.023529,
          "end_time": "2022-11-25T17:11:55.888990",
          "exception": false,
          "start_time": "2022-11-25T17:11:55.865461",
          "status": "completed"
        },
        "tags": [],
        "id": "bf1504b9",
        "colab": {
          "base_uri": "https://localhost:8080/"
        },
        "outputId": "ccf0aa52-81e5-4834-f588-0eacfeaee7ba"
      },
      "outputs": [
        {
          "output_type": "execute_result",
          "data": {
            "text/plain": [
              "(891, 12)"
            ]
          },
          "metadata": {},
          "execution_count": 88
        }
      ],
      "source": [
        "Ship.shape #Dataset total rows and columns"
      ]
    },
    {
      "cell_type": "code",
      "execution_count": 89,
      "id": "2afcf441",
      "metadata": {
        "execution": {
          "iopub.execute_input": "2022-11-25T17:11:55.921427Z",
          "iopub.status.busy": "2022-11-25T17:11:55.920639Z",
          "iopub.status.idle": "2022-11-25T17:11:55.929404Z",
          "shell.execute_reply": "2022-11-25T17:11:55.928491Z"
        },
        "papermill": {
          "duration": 0.030042,
          "end_time": "2022-11-25T17:11:55.933317",
          "exception": false,
          "start_time": "2022-11-25T17:11:55.903275",
          "status": "completed"
        },
        "tags": [],
        "id": "2afcf441",
        "colab": {
          "base_uri": "https://localhost:8080/"
        },
        "outputId": "3bac7ed1-4d15-44ae-b36f-dbb5fb18db23"
      },
      "outputs": [
        {
          "output_type": "execute_result",
          "data": {
            "text/plain": [
              "Index(['PassengerId', 'Survived', 'Pclass', 'Name', 'Sex', 'Age', 'SibSp',\n",
              "       'Parch', 'Ticket', 'Fare', 'Cabin', 'Embarked'],\n",
              "      dtype='object')"
            ]
          },
          "metadata": {},
          "execution_count": 89
        }
      ],
      "source": [
        "Ship.columns #Total columns name of dataset\n"
      ]
    },
    {
      "cell_type": "code",
      "execution_count": 90,
      "id": "34e3a544",
      "metadata": {
        "execution": {
          "iopub.execute_input": "2022-11-25T17:11:55.970231Z",
          "iopub.status.busy": "2022-11-25T17:11:55.969631Z",
          "iopub.status.idle": "2022-11-25T17:11:56.019320Z",
          "shell.execute_reply": "2022-11-25T17:11:56.018117Z"
        },
        "papermill": {
          "duration": 0.074509,
          "end_time": "2022-11-25T17:11:56.021935",
          "exception": false,
          "start_time": "2022-11-25T17:11:55.947426",
          "status": "completed"
        },
        "tags": [],
        "id": "34e3a544",
        "colab": {
          "base_uri": "https://localhost:8080/",
          "height": 300
        },
        "outputId": "e2828a81-626e-413c-e41c-968fc75080ec"
      },
      "outputs": [
        {
          "output_type": "execute_result",
          "data": {
            "text/plain": [
              "       PassengerId    Survived      Pclass         Age       SibSp  \\\n",
              "count   891.000000  891.000000  891.000000  714.000000  891.000000   \n",
              "mean    446.000000    0.383838    2.308642   29.699118    0.523008   \n",
              "std     257.353842    0.486592    0.836071   14.526497    1.102743   \n",
              "min       1.000000    0.000000    1.000000    0.420000    0.000000   \n",
              "25%     223.500000    0.000000    2.000000   20.125000    0.000000   \n",
              "50%     446.000000    0.000000    3.000000   28.000000    0.000000   \n",
              "75%     668.500000    1.000000    3.000000   38.000000    1.000000   \n",
              "max     891.000000    1.000000    3.000000   80.000000    8.000000   \n",
              "\n",
              "            Parch        Fare  \n",
              "count  891.000000  891.000000  \n",
              "mean     0.381594   32.204208  \n",
              "std      0.806057   49.693429  \n",
              "min      0.000000    0.000000  \n",
              "25%      0.000000    7.910400  \n",
              "50%      0.000000   14.454200  \n",
              "75%      0.000000   31.000000  \n",
              "max      6.000000  512.329200  "
            ],
            "text/html": [
              "\n",
              "  <div id=\"df-d75a946a-0323-43a0-908b-6106c34e2afc\" class=\"colab-df-container\">\n",
              "    <div>\n",
              "<style scoped>\n",
              "    .dataframe tbody tr th:only-of-type {\n",
              "        vertical-align: middle;\n",
              "    }\n",
              "\n",
              "    .dataframe tbody tr th {\n",
              "        vertical-align: top;\n",
              "    }\n",
              "\n",
              "    .dataframe thead th {\n",
              "        text-align: right;\n",
              "    }\n",
              "</style>\n",
              "<table border=\"1\" class=\"dataframe\">\n",
              "  <thead>\n",
              "    <tr style=\"text-align: right;\">\n",
              "      <th></th>\n",
              "      <th>PassengerId</th>\n",
              "      <th>Survived</th>\n",
              "      <th>Pclass</th>\n",
              "      <th>Age</th>\n",
              "      <th>SibSp</th>\n",
              "      <th>Parch</th>\n",
              "      <th>Fare</th>\n",
              "    </tr>\n",
              "  </thead>\n",
              "  <tbody>\n",
              "    <tr>\n",
              "      <th>count</th>\n",
              "      <td>891.000000</td>\n",
              "      <td>891.000000</td>\n",
              "      <td>891.000000</td>\n",
              "      <td>714.000000</td>\n",
              "      <td>891.000000</td>\n",
              "      <td>891.000000</td>\n",
              "      <td>891.000000</td>\n",
              "    </tr>\n",
              "    <tr>\n",
              "      <th>mean</th>\n",
              "      <td>446.000000</td>\n",
              "      <td>0.383838</td>\n",
              "      <td>2.308642</td>\n",
              "      <td>29.699118</td>\n",
              "      <td>0.523008</td>\n",
              "      <td>0.381594</td>\n",
              "      <td>32.204208</td>\n",
              "    </tr>\n",
              "    <tr>\n",
              "      <th>std</th>\n",
              "      <td>257.353842</td>\n",
              "      <td>0.486592</td>\n",
              "      <td>0.836071</td>\n",
              "      <td>14.526497</td>\n",
              "      <td>1.102743</td>\n",
              "      <td>0.806057</td>\n",
              "      <td>49.693429</td>\n",
              "    </tr>\n",
              "    <tr>\n",
              "      <th>min</th>\n",
              "      <td>1.000000</td>\n",
              "      <td>0.000000</td>\n",
              "      <td>1.000000</td>\n",
              "      <td>0.420000</td>\n",
              "      <td>0.000000</td>\n",
              "      <td>0.000000</td>\n",
              "      <td>0.000000</td>\n",
              "    </tr>\n",
              "    <tr>\n",
              "      <th>25%</th>\n",
              "      <td>223.500000</td>\n",
              "      <td>0.000000</td>\n",
              "      <td>2.000000</td>\n",
              "      <td>20.125000</td>\n",
              "      <td>0.000000</td>\n",
              "      <td>0.000000</td>\n",
              "      <td>7.910400</td>\n",
              "    </tr>\n",
              "    <tr>\n",
              "      <th>50%</th>\n",
              "      <td>446.000000</td>\n",
              "      <td>0.000000</td>\n",
              "      <td>3.000000</td>\n",
              "      <td>28.000000</td>\n",
              "      <td>0.000000</td>\n",
              "      <td>0.000000</td>\n",
              "      <td>14.454200</td>\n",
              "    </tr>\n",
              "    <tr>\n",
              "      <th>75%</th>\n",
              "      <td>668.500000</td>\n",
              "      <td>1.000000</td>\n",
              "      <td>3.000000</td>\n",
              "      <td>38.000000</td>\n",
              "      <td>1.000000</td>\n",
              "      <td>0.000000</td>\n",
              "      <td>31.000000</td>\n",
              "    </tr>\n",
              "    <tr>\n",
              "      <th>max</th>\n",
              "      <td>891.000000</td>\n",
              "      <td>1.000000</td>\n",
              "      <td>3.000000</td>\n",
              "      <td>80.000000</td>\n",
              "      <td>8.000000</td>\n",
              "      <td>6.000000</td>\n",
              "      <td>512.329200</td>\n",
              "    </tr>\n",
              "  </tbody>\n",
              "</table>\n",
              "</div>\n",
              "    <div class=\"colab-df-buttons\">\n",
              "\n",
              "  <div class=\"colab-df-container\">\n",
              "    <button class=\"colab-df-convert\" onclick=\"convertToInteractive('df-d75a946a-0323-43a0-908b-6106c34e2afc')\"\n",
              "            title=\"Convert this dataframe to an interactive table.\"\n",
              "            style=\"display:none;\">\n",
              "\n",
              "  <svg xmlns=\"http://www.w3.org/2000/svg\" height=\"24px\" viewBox=\"0 -960 960 960\">\n",
              "    <path d=\"M120-120v-720h720v720H120Zm60-500h600v-160H180v160Zm220 220h160v-160H400v160Zm0 220h160v-160H400v160ZM180-400h160v-160H180v160Zm440 0h160v-160H620v160ZM180-180h160v-160H180v160Zm440 0h160v-160H620v160Z\"/>\n",
              "  </svg>\n",
              "    </button>\n",
              "\n",
              "  <style>\n",
              "    .colab-df-container {\n",
              "      display:flex;\n",
              "      gap: 12px;\n",
              "    }\n",
              "\n",
              "    .colab-df-convert {\n",
              "      background-color: #E8F0FE;\n",
              "      border: none;\n",
              "      border-radius: 50%;\n",
              "      cursor: pointer;\n",
              "      display: none;\n",
              "      fill: #1967D2;\n",
              "      height: 32px;\n",
              "      padding: 0 0 0 0;\n",
              "      width: 32px;\n",
              "    }\n",
              "\n",
              "    .colab-df-convert:hover {\n",
              "      background-color: #E2EBFA;\n",
              "      box-shadow: 0px 1px 2px rgba(60, 64, 67, 0.3), 0px 1px 3px 1px rgba(60, 64, 67, 0.15);\n",
              "      fill: #174EA6;\n",
              "    }\n",
              "\n",
              "    .colab-df-buttons div {\n",
              "      margin-bottom: 4px;\n",
              "    }\n",
              "\n",
              "    [theme=dark] .colab-df-convert {\n",
              "      background-color: #3B4455;\n",
              "      fill: #D2E3FC;\n",
              "    }\n",
              "\n",
              "    [theme=dark] .colab-df-convert:hover {\n",
              "      background-color: #434B5C;\n",
              "      box-shadow: 0px 1px 3px 1px rgba(0, 0, 0, 0.15);\n",
              "      filter: drop-shadow(0px 1px 2px rgba(0, 0, 0, 0.3));\n",
              "      fill: #FFFFFF;\n",
              "    }\n",
              "  </style>\n",
              "\n",
              "    <script>\n",
              "      const buttonEl =\n",
              "        document.querySelector('#df-d75a946a-0323-43a0-908b-6106c34e2afc button.colab-df-convert');\n",
              "      buttonEl.style.display =\n",
              "        google.colab.kernel.accessAllowed ? 'block' : 'none';\n",
              "\n",
              "      async function convertToInteractive(key) {\n",
              "        const element = document.querySelector('#df-d75a946a-0323-43a0-908b-6106c34e2afc');\n",
              "        const dataTable =\n",
              "          await google.colab.kernel.invokeFunction('convertToInteractive',\n",
              "                                                    [key], {});\n",
              "        if (!dataTable) return;\n",
              "\n",
              "        const docLinkHtml = 'Like what you see? Visit the ' +\n",
              "          '<a target=\"_blank\" href=https://colab.research.google.com/notebooks/data_table.ipynb>data table notebook</a>'\n",
              "          + ' to learn more about interactive tables.';\n",
              "        element.innerHTML = '';\n",
              "        dataTable['output_type'] = 'display_data';\n",
              "        await google.colab.output.renderOutput(dataTable, element);\n",
              "        const docLink = document.createElement('div');\n",
              "        docLink.innerHTML = docLinkHtml;\n",
              "        element.appendChild(docLink);\n",
              "      }\n",
              "    </script>\n",
              "  </div>\n",
              "\n",
              "\n",
              "<div id=\"df-c5436f58-76bf-429a-93cb-3244d3120557\">\n",
              "  <button class=\"colab-df-quickchart\" onclick=\"quickchart('df-c5436f58-76bf-429a-93cb-3244d3120557')\"\n",
              "            title=\"Suggest charts\"\n",
              "            style=\"display:none;\">\n",
              "\n",
              "<svg xmlns=\"http://www.w3.org/2000/svg\" height=\"24px\"viewBox=\"0 0 24 24\"\n",
              "     width=\"24px\">\n",
              "    <g>\n",
              "        <path d=\"M19 3H5c-1.1 0-2 .9-2 2v14c0 1.1.9 2 2 2h14c1.1 0 2-.9 2-2V5c0-1.1-.9-2-2-2zM9 17H7v-7h2v7zm4 0h-2V7h2v10zm4 0h-2v-4h2v4z\"/>\n",
              "    </g>\n",
              "</svg>\n",
              "  </button>\n",
              "\n",
              "<style>\n",
              "  .colab-df-quickchart {\n",
              "      --bg-color: #E8F0FE;\n",
              "      --fill-color: #1967D2;\n",
              "      --hover-bg-color: #E2EBFA;\n",
              "      --hover-fill-color: #174EA6;\n",
              "      --disabled-fill-color: #AAA;\n",
              "      --disabled-bg-color: #DDD;\n",
              "  }\n",
              "\n",
              "  [theme=dark] .colab-df-quickchart {\n",
              "      --bg-color: #3B4455;\n",
              "      --fill-color: #D2E3FC;\n",
              "      --hover-bg-color: #434B5C;\n",
              "      --hover-fill-color: #FFFFFF;\n",
              "      --disabled-bg-color: #3B4455;\n",
              "      --disabled-fill-color: #666;\n",
              "  }\n",
              "\n",
              "  .colab-df-quickchart {\n",
              "    background-color: var(--bg-color);\n",
              "    border: none;\n",
              "    border-radius: 50%;\n",
              "    cursor: pointer;\n",
              "    display: none;\n",
              "    fill: var(--fill-color);\n",
              "    height: 32px;\n",
              "    padding: 0;\n",
              "    width: 32px;\n",
              "  }\n",
              "\n",
              "  .colab-df-quickchart:hover {\n",
              "    background-color: var(--hover-bg-color);\n",
              "    box-shadow: 0 1px 2px rgba(60, 64, 67, 0.3), 0 1px 3px 1px rgba(60, 64, 67, 0.15);\n",
              "    fill: var(--button-hover-fill-color);\n",
              "  }\n",
              "\n",
              "  .colab-df-quickchart-complete:disabled,\n",
              "  .colab-df-quickchart-complete:disabled:hover {\n",
              "    background-color: var(--disabled-bg-color);\n",
              "    fill: var(--disabled-fill-color);\n",
              "    box-shadow: none;\n",
              "  }\n",
              "\n",
              "  .colab-df-spinner {\n",
              "    border: 2px solid var(--fill-color);\n",
              "    border-color: transparent;\n",
              "    border-bottom-color: var(--fill-color);\n",
              "    animation:\n",
              "      spin 1s steps(1) infinite;\n",
              "  }\n",
              "\n",
              "  @keyframes spin {\n",
              "    0% {\n",
              "      border-color: transparent;\n",
              "      border-bottom-color: var(--fill-color);\n",
              "      border-left-color: var(--fill-color);\n",
              "    }\n",
              "    20% {\n",
              "      border-color: transparent;\n",
              "      border-left-color: var(--fill-color);\n",
              "      border-top-color: var(--fill-color);\n",
              "    }\n",
              "    30% {\n",
              "      border-color: transparent;\n",
              "      border-left-color: var(--fill-color);\n",
              "      border-top-color: var(--fill-color);\n",
              "      border-right-color: var(--fill-color);\n",
              "    }\n",
              "    40% {\n",
              "      border-color: transparent;\n",
              "      border-right-color: var(--fill-color);\n",
              "      border-top-color: var(--fill-color);\n",
              "    }\n",
              "    60% {\n",
              "      border-color: transparent;\n",
              "      border-right-color: var(--fill-color);\n",
              "    }\n",
              "    80% {\n",
              "      border-color: transparent;\n",
              "      border-right-color: var(--fill-color);\n",
              "      border-bottom-color: var(--fill-color);\n",
              "    }\n",
              "    90% {\n",
              "      border-color: transparent;\n",
              "      border-bottom-color: var(--fill-color);\n",
              "    }\n",
              "  }\n",
              "</style>\n",
              "\n",
              "  <script>\n",
              "    async function quickchart(key) {\n",
              "      const quickchartButtonEl =\n",
              "        document.querySelector('#' + key + ' button');\n",
              "      quickchartButtonEl.disabled = true;  // To prevent multiple clicks.\n",
              "      quickchartButtonEl.classList.add('colab-df-spinner');\n",
              "      try {\n",
              "        const charts = await google.colab.kernel.invokeFunction(\n",
              "            'suggestCharts', [key], {});\n",
              "      } catch (error) {\n",
              "        console.error('Error during call to suggestCharts:', error);\n",
              "      }\n",
              "      quickchartButtonEl.classList.remove('colab-df-spinner');\n",
              "      quickchartButtonEl.classList.add('colab-df-quickchart-complete');\n",
              "    }\n",
              "    (() => {\n",
              "      let quickchartButtonEl =\n",
              "        document.querySelector('#df-c5436f58-76bf-429a-93cb-3244d3120557 button');\n",
              "      quickchartButtonEl.style.display =\n",
              "        google.colab.kernel.accessAllowed ? 'block' : 'none';\n",
              "    })();\n",
              "  </script>\n",
              "</div>\n",
              "\n",
              "    </div>\n",
              "  </div>\n"
            ]
          },
          "metadata": {},
          "execution_count": 90
        }
      ],
      "source": [
        "Ship.describe()"
      ]
    },
    {
      "cell_type": "code",
      "execution_count": 91,
      "id": "5ec4ae54",
      "metadata": {
        "execution": {
          "iopub.execute_input": "2022-11-25T17:11:56.049025Z",
          "iopub.status.busy": "2022-11-25T17:11:56.048363Z",
          "iopub.status.idle": "2022-11-25T17:11:56.069162Z",
          "shell.execute_reply": "2022-11-25T17:11:56.067479Z"
        },
        "papermill": {
          "duration": 0.037057,
          "end_time": "2022-11-25T17:11:56.071733",
          "exception": false,
          "start_time": "2022-11-25T17:11:56.034676",
          "status": "completed"
        },
        "tags": [],
        "id": "5ec4ae54",
        "colab": {
          "base_uri": "https://localhost:8080/"
        },
        "outputId": "5bc43874-b17d-4106-ba56-29d53cfce074"
      },
      "outputs": [
        {
          "output_type": "stream",
          "name": "stdout",
          "text": [
            "<class 'pandas.core.frame.DataFrame'>\n",
            "RangeIndex: 891 entries, 0 to 890\n",
            "Data columns (total 12 columns):\n",
            " #   Column       Non-Null Count  Dtype  \n",
            "---  ------       --------------  -----  \n",
            " 0   PassengerId  891 non-null    int64  \n",
            " 1   Survived     891 non-null    int64  \n",
            " 2   Pclass       891 non-null    int64  \n",
            " 3   Name         891 non-null    object \n",
            " 4   Sex          891 non-null    object \n",
            " 5   Age          714 non-null    float64\n",
            " 6   SibSp        891 non-null    int64  \n",
            " 7   Parch        891 non-null    int64  \n",
            " 8   Ticket       891 non-null    object \n",
            " 9   Fare         891 non-null    float64\n",
            " 10  Cabin        204 non-null    object \n",
            " 11  Embarked     889 non-null    object \n",
            "dtypes: float64(2), int64(5), object(5)\n",
            "memory usage: 83.7+ KB\n"
          ]
        }
      ],
      "source": [
        "Ship.info() #shows datatype"
      ]
    },
    {
      "cell_type": "code",
      "execution_count": 92,
      "id": "f926239a",
      "metadata": {
        "execution": {
          "iopub.execute_input": "2022-11-25T17:11:56.098408Z",
          "iopub.status.busy": "2022-11-25T17:11:56.097641Z",
          "iopub.status.idle": "2022-11-25T17:11:56.108525Z",
          "shell.execute_reply": "2022-11-25T17:11:56.107293Z"
        },
        "papermill": {
          "duration": 0.027181,
          "end_time": "2022-11-25T17:11:56.111218",
          "exception": false,
          "start_time": "2022-11-25T17:11:56.084037",
          "status": "completed"
        },
        "tags": [],
        "id": "f926239a",
        "colab": {
          "base_uri": "https://localhost:8080/"
        },
        "outputId": "d0fb69e6-47ee-49c6-f6ea-236385bc623e"
      },
      "outputs": [
        {
          "output_type": "execute_result",
          "data": {
            "text/plain": [
              "PassengerId     0.000000\n",
              "Survived        0.000000\n",
              "Pclass          0.000000\n",
              "Name            0.000000\n",
              "Sex             0.000000\n",
              "Age            19.865320\n",
              "SibSp           0.000000\n",
              "Parch           0.000000\n",
              "Ticket          0.000000\n",
              "Fare            0.000000\n",
              "Cabin          77.104377\n",
              "Embarked        0.224467\n",
              "dtype: float64"
            ]
          },
          "metadata": {},
          "execution_count": 92
        }
      ],
      "source": [
        "Ship.isna().sum()/len(Ship)*100\n",
        "\n",
        "# Missing Value percentage"
      ]
    },
    {
      "cell_type": "code",
      "execution_count": 93,
      "id": "ceff4286",
      "metadata": {
        "execution": {
          "iopub.execute_input": "2022-11-25T17:11:56.138755Z",
          "iopub.status.busy": "2022-11-25T17:11:56.138320Z",
          "iopub.status.idle": "2022-11-25T17:11:56.802629Z",
          "shell.execute_reply": "2022-11-25T17:11:56.801504Z"
        },
        "papermill": {
          "duration": 0.680904,
          "end_time": "2022-11-25T17:11:56.804958",
          "exception": false,
          "start_time": "2022-11-25T17:11:56.124054",
          "status": "completed"
        },
        "tags": [],
        "id": "ceff4286",
        "colab": {
          "base_uri": "https://localhost:8080/",
          "height": 517
        },
        "outputId": "21a56c25-596f-4ce3-d4b0-f1f23ec76cc9"
      },
      "outputs": [
        {
          "output_type": "display_data",
          "data": {
            "text/plain": [
              "<Figure size 2500x1000 with 3 Axes>"
            ],
            "image/png": "[encoded data removed]"
          },
          "metadata": {}
        }
      ],
      "source": [
        "msno.bar(Ship, color=\"dodgerblue\");\n",
        "plt.show();\n",
        "\n",
        "# Missing Value Visualization"
      ]
    },
    {
      "cell_type": "code",
      "execution_count": 94,
      "id": "d7dcfe02",
      "metadata": {
        "execution": {
          "iopub.execute_input": "2022-11-25T17:11:56.833819Z",
          "iopub.status.busy": "2022-11-25T17:11:56.833372Z",
          "iopub.status.idle": "2022-11-25T17:11:56.847842Z",
          "shell.execute_reply": "2022-11-25T17:11:56.846724Z"
        },
        "papermill": {
          "duration": 0.032358,
          "end_time": "2022-11-25T17:11:56.850516",
          "exception": false,
          "start_time": "2022-11-25T17:11:56.818158",
          "status": "completed"
        },
        "tags": [],
        "id": "d7dcfe02",
        "colab": {
          "base_uri": "https://localhost:8080/"
        },
        "outputId": "233e5354-2ca9-4ede-9b6b-2b4d9a9e57dc"
      },
      "outputs": [
        {
          "output_type": "execute_result",
          "data": {
            "text/plain": [
              "0"
            ]
          },
          "metadata": {},
          "execution_count": 94
        }
      ],
      "source": [
        "# checking duplicated values\n",
        "Ship.duplicated().sum()"
      ]
    },
    {
      "cell_type": "markdown",
      "id": "5351e3ae",
      "metadata": {
        "papermill": {
          "duration": 0.012788,
          "end_time": "2022-11-25T17:11:56.876702",
          "exception": false,
          "start_time": "2022-11-25T17:11:56.863914",
          "status": "completed"
        },
        "tags": [],
        "id": "5351e3ae"
      },
      "source": [
        "\n",
        "<div style=\"text-align: left; background-color:#F19F9F; font-family: Trebuchet MS; color:#494545; padding: 20px; line-height:1.25;border-radius:1px; margin-bottom: 0em; text-align: center; font-size: 30px\">Visualization with EDA</div>"
      ]
    },
    {
      "cell_type": "markdown",
      "id": "01a2b61e",
      "metadata": {
        "papermill": {
          "duration": 0.013264,
          "end_time": "2022-11-25T17:11:56.903174",
          "exception": false,
          "start_time": "2022-11-25T17:11:56.889910",
          "status": "completed"
        },
        "tags": [],
        "id": "01a2b61e"
      },
      "source": [
        "# How many males and females were there ?"
      ]
    },
    {
      "cell_type": "code",
      "execution_count": 95,
      "id": "62acee8b",
      "metadata": {
        "execution": {
          "iopub.execute_input": "2022-11-25T17:11:56.933153Z",
          "iopub.status.busy": "2022-11-25T17:11:56.932422Z",
          "iopub.status.idle": "2022-11-25T17:11:57.124490Z",
          "shell.execute_reply": "2022-11-25T17:11:57.123359Z"
        },
        "papermill": {
          "duration": 0.20981,
          "end_time": "2022-11-25T17:11:57.127177",
          "exception": false,
          "start_time": "2022-11-25T17:11:56.917367",
          "status": "completed"
        },
        "tags": [],
        "id": "62acee8b",
        "colab": {
          "base_uri": "https://localhost:8080/"
        },
        "outputId": "8e979984-7149-44aa-86dd-f6c1479d30c4"
      },
      "outputs": [
        {
          "output_type": "execute_result",
          "data": {
            "text/plain": [
              "male      577\n",
              "female    314\n",
              "Name: Sex, dtype: int64"
            ]
          },
          "metadata": {},
          "execution_count": 95
        }
      ],
      "source": [
        "Ship[\"Sex\"].value_counts()"
      ]
    },
    {
      "cell_type": "code",
      "execution_count": 96,
      "id": "15e2849b",
      "metadata": {
        "execution": {
          "iopub.execute_input": "2022-11-25T17:11:57.156983Z",
          "iopub.status.busy": "2022-11-25T17:11:57.156538Z",
          "iopub.status.idle": "2022-11-25T17:11:57.287687Z",
          "shell.execute_reply": "2022-11-25T17:11:57.286129Z"
        },
        "papermill": {
          "duration": 0.151175,
          "end_time": "2022-11-25T17:11:57.292272",
          "exception": false,
          "start_time": "2022-11-25T17:11:57.141097",
          "status": "completed"
        },
        "tags": [],
        "id": "15e2849b",
        "colab": {
          "base_uri": "https://localhost:8080/",
          "height": 422
        },
        "outputId": "c995877d-ca45-465c-93cb-8ecd04797c93"
      },
      "outputs": [
        {
          "output_type": "display_data",
          "data": {
            "text/plain": [
              "<Figure size 1000x500 with 1 Axes>"
            ],
            "image/png": "[encoded data removed]"
          },
          "metadata": {}
        }
      ],
      "source": [
        "def label_function(val):\n",
        "    return f'{val / 100 * len(Ship):.0f}\\n{val:.0f}%'\n",
        "\n",
        "fig, ax1 = plt.subplots(ncols=1, figsize=(10, 5))\n",
        "\n",
        "Ship.groupby('Sex').size().plot(kind='pie',autopct=label_function,textprops={'fontsize': 20},\n",
        "                                  colors=['r', 'g'], ax=ax1,label='Sexratio')\n",
        "\n",
        "plt.show()"
      ]
    },
    {
      "cell_type": "markdown",
      "id": "84a29261",
      "metadata": {
        "papermill": {
          "duration": 0.03497,
          "end_time": "2022-11-25T17:11:57.362428",
          "exception": false,
          "start_time": "2022-11-25T17:11:57.327458",
          "status": "completed"
        },
        "tags": [],
        "id": "84a29261"
      },
      "source": [
        "\n",
        "<div style=\"color:white;\n",
        "           display:fill;\n",
        "           border-radius:5px;\n",
        "           background-color:#5642C5;\n",
        "           font-size:110%;\n",
        "           font-family:Verdana;\n",
        "           letter-spacing:0.5px\">\n",
        "\n",
        "<p style=\"padding: 10px;\n",
        "              color:white;\">                        \n",
        "                           Observation- Males are leading compare to Female in dataset\n",
        "    \n",
        "</p>\n",
        "</div>"
      ]
    },
    {
      "cell_type": "markdown",
      "id": "1369c9be",
      "metadata": {
        "papermill": {
          "duration": 0.013705,
          "end_time": "2022-11-25T17:11:57.390354",
          "exception": false,
          "start_time": "2022-11-25T17:11:57.376649",
          "status": "completed"
        },
        "tags": [],
        "id": "1369c9be"
      },
      "source": [
        " # Let's see how many passengers are Survived ?\n"
      ]
    },
    {
      "cell_type": "code",
      "execution_count": 97,
      "id": "3d7f06c2",
      "metadata": {
        "execution": {
          "iopub.execute_input": "2022-11-25T17:11:57.420297Z",
          "iopub.status.busy": "2022-11-25T17:11:57.419845Z",
          "iopub.status.idle": "2022-11-25T17:11:57.535202Z",
          "shell.execute_reply": "2022-11-25T17:11:57.533659Z"
        },
        "papermill": {
          "duration": 0.135117,
          "end_time": "2022-11-25T17:11:57.539472",
          "exception": false,
          "start_time": "2022-11-25T17:11:57.404355",
          "status": "completed"
        },
        "tags": [],
        "id": "3d7f06c2",
        "colab": {
          "base_uri": "https://localhost:8080/",
          "height": 422
        },
        "outputId": "27bdbada-f730-4d80-9c23-22dd402cf2a6"
      },
      "outputs": [
        {
          "output_type": "display_data",
          "data": {
            "text/plain": [
              "<Figure size 1000x500 with 1 Axes>"
            ],
            "image/png": "[encoded data removed]"
          },
          "metadata": {}
        }
      ],
      "source": [
        "def label_function(val):\n",
        "    return f'{val / 100 * len(Ship):.0f}\\n{val:.0f}%'\n",
        "\n",
        "fig, ax1 = plt.subplots(ncols=1, figsize=(10, 5))\n",
        "\n",
        "Ship.groupby('Survived').size().plot(kind='pie',autopct=label_function,textprops={'fontsize': 20},\n",
        "                                  colors=['r', 'g'], ax=ax1,label='SurvivalDeathratio')\n",
        "\n",
        "plt.show()"
      ]
    },
    {
      "cell_type": "markdown",
      "id": "ef036d4f",
      "metadata": {
        "papermill": {
          "duration": 0.03474,
          "end_time": "2022-11-25T17:11:57.609740",
          "exception": false,
          "start_time": "2022-11-25T17:11:57.575000",
          "status": "completed"
        },
        "tags": [],
        "id": "ef036d4f"
      },
      "source": [
        "\n",
        "<div style=\"color:white;\n",
        "           display:fill;\n",
        "           border-radius:5px;\n",
        "           background-color:#5642C5;\n",
        "           font-size:110%;\n",
        "           font-family:Verdana;\n",
        "           letter-spacing:0.5px\">\n",
        "\n",
        "<p style=\"padding: 10px;\n",
        "              color:white;\">                        \n",
        "                           Observation- Deaths percentage is @peak\n",
        "    \n",
        "</p>\n",
        "</div>"
      ]
    },
    {
      "cell_type": "code",
      "source": [
        "Ship"
      ],
      "metadata": {
        "colab": {
          "base_uri": "https://localhost:8080/",
          "height": 493
        },
        "id": "eINJH0uWiDGS",
        "outputId": "ddc7f9e4-ede4-4c03-b9e0-1e2f1349549b"
      },
      "id": "eINJH0uWiDGS",
      "execution_count": 98,
      "outputs": [
        {
          "output_type": "execute_result",
          "data": {
            "text/plain": [
              "     PassengerId  Survived  Pclass  \\\n",
              "0              1         0       3   \n",
              "1              2         1       1   \n",
              "2              3         1       3   \n",
              "3              4         1       1   \n",
              "4              5         0       3   \n",
              "..           ...       ...     ...   \n",
              "886          887         0       2   \n",
              "887          888         1       1   \n",
              "888          889         0       3   \n",
              "889          890         1       1   \n",
              "890          891         0       3   \n",
              "\n",
              "                                                  Name     Sex   Age  SibSp  \\\n",
              "0                              Braund, Mr. Owen Harris    male  22.0      1   \n",
              "1    Cumings, Mrs. John Bradley (Florence Briggs Th...  female  38.0      1   \n",
              "2                               Heikkinen, Miss. Laina  female  26.0      0   \n",
              "3         Futrelle, Mrs. Jacques Heath (Lily May Peel)  female  35.0      1   \n",
              "4                             Allen, Mr. William Henry    male  35.0      0   \n",
              "..                                                 ...     ...   ...    ...   \n",
              "886                              Montvila, Rev. Juozas    male  27.0      0   \n",
              "887                       Graham, Miss. Margaret Edith  female  19.0      0   \n",
              "888           Johnston, Miss. Catherine Helen \"Carrie\"  female   NaN      1   \n",
              "889                              Behr, Mr. Karl Howell    male  26.0      0   \n",
              "890                                Dooley, Mr. Patrick    male  32.0      0   \n",
              "\n",
              "     Parch            Ticket     Fare Cabin Embarked  \n",
              "0        0         A/5 21171   7.2500   NaN        S  \n",
              "1        0          PC 17599  71.2833   C85        C  \n",
              "2        0  STON/O2. 3101282   7.9250   NaN        S  \n",
              "3        0            113803  53.1000  C123        S  \n",
              "4        0            373450   8.0500   NaN        S  \n",
              "..     ...               ...      ...   ...      ...  \n",
              "886      0            211536  13.0000   NaN        S  \n",
              "887      0            112053  30.0000   B42        S  \n",
              "888      2        W./C. 6607  23.4500   NaN        S  \n",
              "889      0            111369  30.0000  C148        C  \n",
              "890      0            370376   7.7500   NaN        Q  \n",
              "\n",
              "[891 rows x 12 columns]"
            ],
            "text/html": [
              "\n",
              "  <div id=\"df-266b90b8-6d51-4527-b3e2-3d06d0fb433b\" class=\"colab-df-container\">\n",
              "    <div>\n",
              "<style scoped>\n",
              "    .dataframe tbody tr th:only-of-type {\n",
              "        vertical-align: middle;\n",
              "    }\n",
              "\n",
              "    .dataframe tbody tr th {\n",
              "        vertical-align: top;\n",
              "    }\n",
              "\n",
              "    .dataframe thead th {\n",
              "        text-align: right;\n",
              "    }\n",
              "</style>\n",
              "<table border=\"1\" class=\"dataframe\">\n",
              "  <thead>\n",
              "    <tr style=\"text-align: right;\">\n",
              "      <th></th>\n",
              "      <th>PassengerId</th>\n",
              "      <th>Survived</th>\n",
              "      <th>Pclass</th>\n",
              "      <th>Name</th>\n",
              "      <th>Sex</th>\n",
              "      <th>Age</th>\n",
              "      <th>SibSp</th>\n",
              "      <th>Parch</th>\n",
              "      <th>Ticket</th>\n",
              "      <th>Fare</th>\n",
              "      <th>Cabin</th>\n",
              "      <th>Embarked</th>\n",
              "    </tr>\n",
              "  </thead>\n",
              "  <tbody>\n",
              "    <tr>\n",
              "      <th>0</th>\n",
              "      <td>1</td>\n",
              "      <td>0</td>\n",
              "      <td>3</td>\n",
              "      <td>Braund, Mr. Owen Harris</td>\n",
              "      <td>male</td>\n",
              "      <td>22.0</td>\n",
              "      <td>1</td>\n",
              "      <td>0</td>\n",
              "      <td>A/5 21171</td>\n",
              "      <td>7.2500</td>\n",
              "      <td>NaN</td>\n",
              "      <td>S</td>\n",
              "    </tr>\n",
              "    <tr>\n",
              "      <th>1</th>\n",
              "      <td>2</td>\n",
              "      <td>1</td>\n",
              "      <td>1</td>\n",
              "      <td>Cumings, Mrs. John Bradley (Florence Briggs Th...</td>\n",
              "      <td>female</td>\n",
              "      <td>38.0</td>\n",
              "      <td>1</td>\n",
              "      <td>0</td>\n",
              "      <td>PC 17599</td>\n",
              "      <td>71.2833</td>\n",
              "      <td>C85</td>\n",
              "      <td>C</td>\n",
              "    </tr>\n",
              "    <tr>\n",
              "      <th>2</th>\n",
              "      <td>3</td>\n",
              "      <td>1</td>\n",
              "      <td>3</td>\n",
              "      <td>Heikkinen, Miss. Laina</td>\n",
              "      <td>female</td>\n",
              "      <td>26.0</td>\n",
              "      <td>0</td>\n",
              "      <td>0</td>\n",
              "      <td>STON/O2. 3101282</td>\n",
              "      <td>7.9250</td>\n",
              "      <td>NaN</td>\n",
              "      <td>S</td>\n",
              "    </tr>\n",
              "    <tr>\n",
              "      <th>3</th>\n",
              "      <td>4</td>\n",
              "      <td>1</td>\n",
              "      <td>1</td>\n",
              "      <td>Futrelle, Mrs. Jacques Heath (Lily May Peel)</td>\n",
              "      <td>female</td>\n",
              "      <td>35.0</td>\n",
              "      <td>1</td>\n",
              "      <td>0</td>\n",
              "      <td>113803</td>\n",
              "      <td>53.1000</td>\n",
              "      <td>C123</td>\n",
              "      <td>S</td>\n",
              "    </tr>\n",
              "    <tr>\n",
              "      <th>4</th>\n",
              "      <td>5</td>\n",
              "      <td>0</td>\n",
              "      <td>3</td>\n",
              "      <td>Allen, Mr. William Henry</td>\n",
              "      <td>male</td>\n",
              "      <td>35.0</td>\n",
              "      <td>0</td>\n",
              "      <td>0</td>\n",
              "      <td>373450</td>\n",
              "      <td>8.0500</td>\n",
              "      <td>NaN</td>\n",
              "      <td>S</td>\n",
              "    </tr>\n",
              "    <tr>\n",
              "      <th>...</th>\n",
              "      <td>...</td>\n",
              "      <td>...</td>\n",
              "      <td>...</td>\n",
              "      <td>...</td>\n",
              "      <td>...</td>\n",
              "      <td>...</td>\n",
              "      <td>...</td>\n",
              "      <td>...</td>\n",
              "      <td>...</td>\n",
              "      <td>...</td>\n",
              "      <td>...</td>\n",
              "      <td>...</td>\n",
              "    </tr>\n",
              "    <tr>\n",
              "      <th>886</th>\n",
              "      <td>887</td>\n",
              "      <td>0</td>\n",
              "      <td>2</td>\n",
              "      <td>Montvila, Rev. Juozas</td>\n",
              "      <td>male</td>\n",
              "      <td>27.0</td>\n",
              "      <td>0</td>\n",
              "      <td>0</td>\n",
              "      <td>211536</td>\n",
              "      <td>13.0000</td>\n",
              "      <td>NaN</td>\n",
              "      <td>S</td>\n",
              "    </tr>\n",
              "    <tr>\n",
              "      <th>887</th>\n",
              "      <td>888</td>\n",
              "      <td>1</td>\n",
              "      <td>1</td>\n",
              "      <td>Graham, Miss. Margaret Edith</td>\n",
              "      <td>female</td>\n",
              "      <td>19.0</td>\n",
              "      <td>0</td>\n",
              "      <td>0</td>\n",
              "      <td>112053</td>\n",
              "      <td>30.0000</td>\n",
              "      <td>B42</td>\n",
              "      <td>S</td>\n",
              "    </tr>\n",
              "    <tr>\n",
              "      <th>888</th>\n",
              "      <td>889</td>\n",
              "      <td>0</td>\n",
              "      <td>3</td>\n",
              "      <td>Johnston, Miss. Catherine Helen \"Carrie\"</td>\n",
              "      <td>female</td>\n",
              "      <td>NaN</td>\n",
              "      <td>1</td>\n",
              "      <td>2</td>\n",
              "      <td>W./C. 6607</td>\n",
              "      <td>23.4500</td>\n",
              "      <td>NaN</td>\n",
              "      <td>S</td>\n",
              "    </tr>\n",
              "    <tr>\n",
              "      <th>889</th>\n",
              "      <td>890</td>\n",
              "      <td>1</td>\n",
              "      <td>1</td>\n",
              "      <td>Behr, Mr. Karl Howell</td>\n",
              "      <td>male</td>\n",
              "      <td>26.0</td>\n",
              "      <td>0</td>\n",
              "      <td>0</td>\n",
              "      <td>111369</td>\n",
              "      <td>30.0000</td>\n",
              "      <td>C148</td>\n",
              "      <td>C</td>\n",
              "    </tr>\n",
              "    <tr>\n",
              "      <th>890</th>\n",
              "      <td>891</td>\n",
              "      <td>0</td>\n",
              "      <td>3</td>\n",
              "      <td>Dooley, Mr. Patrick</td>\n",
              "      <td>male</td>\n",
              "      <td>32.0</td>\n",
              "      <td>0</td>\n",
              "      <td>0</td>\n",
              "      <td>370376</td>\n",
              "      <td>7.7500</td>\n",
              "      <td>NaN</td>\n",
              "      <td>Q</td>\n",
              "    </tr>\n",
              "  </tbody>\n",
              "</table>\n",
              "<p>891 rows × 12 columns</p>\n",
              "</div>\n",
              "    <div class=\"colab-df-buttons\">\n",
              "\n",
              "  <div class=\"colab-df-container\">\n",
              "    <button class=\"colab-df-convert\" onclick=\"convertToInteractive('df-266b90b8-6d51-4527-b3e2-3d06d0fb433b')\"\n",
              "            title=\"Convert this dataframe to an interactive table.\"\n",
              "            style=\"display:none;\">\n",
              "\n",
              "  <svg xmlns=\"http://www.w3.org/2000/svg\" height=\"24px\" viewBox=\"0 -960 960 960\">\n",
              "    <path d=\"M120-120v-720h720v720H120Zm60-500h600v-160H180v160Zm220 220h160v-160H400v160Zm0 220h160v-160H400v160ZM180-400h160v-160H180v160Zm440 0h160v-160H620v160ZM180-180h160v-160H180v160Zm440 0h160v-160H620v160Z\"/>\n",
              "  </svg>\n",
              "    </button>\n",
              "\n",
              "  <style>\n",
              "    .colab-df-container {\n",
              "      display:flex;\n",
              "      gap: 12px;\n",
              "    }\n",
              "\n",
              "    .colab-df-convert {\n",
              "      background-color: #E8F0FE;\n",
              "      border: none;\n",
              "      border-radius: 50%;\n",
              "      cursor: pointer;\n",
              "      display: none;\n",
              "      fill: #1967D2;\n",
              "      height: 32px;\n",
              "      padding: 0 0 0 0;\n",
              "      width: 32px;\n",
              "    }\n",
              "\n",
              "    .colab-df-convert:hover {\n",
              "      background-color: #E2EBFA;\n",
              "      box-shadow: 0px 1px 2px rgba(60, 64, 67, 0.3), 0px 1px 3px 1px rgba(60, 64, 67, 0.15);\n",
              "      fill: #174EA6;\n",
              "    }\n",
              "\n",
              "    .colab-df-buttons div {\n",
              "      margin-bottom: 4px;\n",
              "    }\n",
              "\n",
              "    [theme=dark] .colab-df-convert {\n",
              "      background-color: #3B4455;\n",
              "      fill: #D2E3FC;\n",
              "    }\n",
              "\n",
              "    [theme=dark] .colab-df-convert:hover {\n",
              "      background-color: #434B5C;\n",
              "      box-shadow: 0px 1px 3px 1px rgba(0, 0, 0, 0.15);\n",
              "      filter: drop-shadow(0px 1px 2px rgba(0, 0, 0, 0.3));\n",
              "      fill: #FFFFFF;\n",
              "    }\n",
              "  </style>\n",
              "\n",
              "    <script>\n",
              "      const buttonEl =\n",
              "        document.querySelector('#df-266b90b8-6d51-4527-b3e2-3d06d0fb433b button.colab-df-convert');\n",
              "      buttonEl.style.display =\n",
              "        google.colab.kernel.accessAllowed ? 'block' : 'none';\n",
              "\n",
              "      async function convertToInteractive(key) {\n",
              "        const element = document.querySelector('#df-266b90b8-6d51-4527-b3e2-3d06d0fb433b');\n",
              "        const dataTable =\n",
              "          await google.colab.kernel.invokeFunction('convertToInteractive',\n",
              "                                                    [key], {});\n",
              "        if (!dataTable) return;\n",
              "\n",
              "        const docLinkHtml = 'Like what you see? Visit the ' +\n",
              "          '<a target=\"_blank\" href=https://colab.research.google.com/notebooks/data_table.ipynb>data table notebook</a>'\n",
              "          + ' to learn more about interactive tables.';\n",
              "        element.innerHTML = '';\n",
              "        dataTable['output_type'] = 'display_data';\n",
              "        await google.colab.output.renderOutput(dataTable, element);\n",
              "        const docLink = document.createElement('div');\n",
              "        docLink.innerHTML = docLinkHtml;\n",
              "        element.appendChild(docLink);\n",
              "      }\n",
              "    </script>\n",
              "  </div>\n",
              "\n",
              "\n",
              "<div id=\"df-38e0d150-5f18-4f16-a617-84d3fdad6a38\">\n",
              "  <button class=\"colab-df-quickchart\" onclick=\"quickchart('df-38e0d150-5f18-4f16-a617-84d3fdad6a38')\"\n",
              "            title=\"Suggest charts\"\n",
              "            style=\"display:none;\">\n",
              "\n",
              "<svg xmlns=\"http://www.w3.org/2000/svg\" height=\"24px\"viewBox=\"0 0 24 24\"\n",
              "     width=\"24px\">\n",
              "    <g>\n",
              "        <path d=\"M19 3H5c-1.1 0-2 .9-2 2v14c0 1.1.9 2 2 2h14c1.1 0 2-.9 2-2V5c0-1.1-.9-2-2-2zM9 17H7v-7h2v7zm4 0h-2V7h2v10zm4 0h-2v-4h2v4z\"/>\n",
              "    </g>\n",
              "</svg>\n",
              "  </button>\n",
              "\n",
              "<style>\n",
              "  .colab-df-quickchart {\n",
              "      --bg-color: #E8F0FE;\n",
              "      --fill-color: #1967D2;\n",
              "      --hover-bg-color: #E2EBFA;\n",
              "      --hover-fill-color: #174EA6;\n",
              "      --disabled-fill-color: #AAA;\n",
              "      --disabled-bg-color: #DDD;\n",
              "  }\n",
              "\n",
              "  [theme=dark] .colab-df-quickchart {\n",
              "      --bg-color: #3B4455;\n",
              "      --fill-color: #D2E3FC;\n",
              "      --hover-bg-color: #434B5C;\n",
              "      --hover-fill-color: #FFFFFF;\n",
              "      --disabled-bg-color: #3B4455;\n",
              "      --disabled-fill-color: #666;\n",
              "  }\n",
              "\n",
              "  .colab-df-quickchart {\n",
              "    background-color: var(--bg-color);\n",
              "    border: none;\n",
              "    border-radius: 50%;\n",
              "    cursor: pointer;\n",
              "    display: none;\n",
              "    fill: var(--fill-color);\n",
              "    height: 32px;\n",
              "    padding: 0;\n",
              "    width: 32px;\n",
              "  }\n",
              "\n",
              "  .colab-df-quickchart:hover {\n",
              "    background-color: var(--hover-bg-color);\n",
              "    box-shadow: 0 1px 2px rgba(60, 64, 67, 0.3), 0 1px 3px 1px rgba(60, 64, 67, 0.15);\n",
              "    fill: var(--button-hover-fill-color);\n",
              "  }\n",
              "\n",
              "  .colab-df-quickchart-complete:disabled,\n",
              "  .colab-df-quickchart-complete:disabled:hover {\n",
              "    background-color: var(--disabled-bg-color);\n",
              "    fill: var(--disabled-fill-color);\n",
              "    box-shadow: none;\n",
              "  }\n",
              "\n",
              "  .colab-df-spinner {\n",
              "    border: 2px solid var(--fill-color);\n",
              "    border-color: transparent;\n",
              "    border-bottom-color: var(--fill-color);\n",
              "    animation:\n",
              "      spin 1s steps(1) infinite;\n",
              "  }\n",
              "\n",
              "  @keyframes spin {\n",
              "    0% {\n",
              "      border-color: transparent;\n",
              "      border-bottom-color: var(--fill-color);\n",
              "      border-left-color: var(--fill-color);\n",
              "    }\n",
              "    20% {\n",
              "      border-color: transparent;\n",
              "      border-left-color: var(--fill-color);\n",
              "      border-top-color: var(--fill-color);\n",
              "    }\n",
              "    30% {\n",
              "      border-color: transparent;\n",
              "      border-left-color: var(--fill-color);\n",
              "      border-top-color: var(--fill-color);\n",
              "      border-right-color: var(--fill-color);\n",
              "    }\n",
              "    40% {\n",
              "      border-color: transparent;\n",
              "      border-right-color: var(--fill-color);\n",
              "      border-top-color: var(--fill-color);\n",
              "    }\n",
              "    60% {\n",
              "      border-color: transparent;\n",
              "      border-right-color: var(--fill-color);\n",
              "    }\n",
              "    80% {\n",
              "      border-color: transparent;\n",
              "      border-right-color: var(--fill-color);\n",
              "      border-bottom-color: var(--fill-color);\n",
              "    }\n",
              "    90% {\n",
              "      border-color: transparent;\n",
              "      border-bottom-color: var(--fill-color);\n",
              "    }\n",
              "  }\n",
              "</style>\n",
              "\n",
              "  <script>\n",
              "    async function quickchart(key) {\n",
              "      const quickchartButtonEl =\n",
              "        document.querySelector('#' + key + ' button');\n",
              "      quickchartButtonEl.disabled = true;  // To prevent multiple clicks.\n",
              "      quickchartButtonEl.classList.add('colab-df-spinner');\n",
              "      try {\n",
              "        const charts = await google.colab.kernel.invokeFunction(\n",
              "            'suggestCharts', [key], {});\n",
              "      } catch (error) {\n",
              "        console.error('Error during call to suggestCharts:', error);\n",
              "      }\n",
              "      quickchartButtonEl.classList.remove('colab-df-spinner');\n",
              "      quickchartButtonEl.classList.add('colab-df-quickchart-complete');\n",
              "    }\n",
              "    (() => {\n",
              "      let quickchartButtonEl =\n",
              "        document.querySelector('#df-38e0d150-5f18-4f16-a617-84d3fdad6a38 button');\n",
              "      quickchartButtonEl.style.display =\n",
              "        google.colab.kernel.accessAllowed ? 'block' : 'none';\n",
              "    })();\n",
              "  </script>\n",
              "</div>\n",
              "\n",
              "  <div id=\"id_ec904a8b-11bf-4dca-a23a-6d5dfbf2b8af\">\n",
              "    <style>\n",
              "      .colab-df-generate {\n",
              "        background-color: #E8F0FE;\n",
              "        border: none;\n",
              "        border-radius: 50%;\n",
              "        cursor: pointer;\n",
              "        display: none;\n",
              "        fill: #1967D2;\n",
              "        height: 32px;\n",
              "        padding: 0 0 0 0;\n",
              "        width: 32px;\n",
              "      }\n",
              "\n",
              "      .colab-df-generate:hover {\n",
              "        background-color: #E2EBFA;\n",
              "        box-shadow: 0px 1px 2px rgba(60, 64, 67, 0.3), 0px 1px 3px 1px rgba(60, 64, 67, 0.15);\n",
              "        fill: #174EA6;\n",
              "      }\n",
              "\n",
              "      [theme=dark] .colab-df-generate {\n",
              "        background-color: #3B4455;\n",
              "        fill: #D2E3FC;\n",
              "      }\n",
              "\n",
              "      [theme=dark] .colab-df-generate:hover {\n",
              "        background-color: #434B5C;\n",
              "        box-shadow: 0px 1px 3px 1px rgba(0, 0, 0, 0.15);\n",
              "        filter: drop-shadow(0px 1px 2px rgba(0, 0, 0, 0.3));\n",
              "        fill: #FFFFFF;\n",
              "      }\n",
              "    </style>\n",
              "    <button class=\"colab-df-generate\" onclick=\"generateWithVariable('Ship')\"\n",
              "            title=\"Generate code using this dataframe.\"\n",
              "            style=\"display:none;\">\n",
              "\n",
              "  <svg xmlns=\"http://www.w3.org/2000/svg\" height=\"24px\"viewBox=\"0 0 24 24\"\n",
              "       width=\"24px\">\n",
              "    <path d=\"M7,19H8.4L18.45,9,17,7.55,7,17.6ZM5,21V16.75L18.45,3.32a2,2,0,0,1,2.83,0l1.4,1.43a1.91,1.91,0,0,1,.58,1.4,1.91,1.91,0,0,1-.58,1.4L9.25,21ZM18.45,9,17,7.55Zm-12,3A5.31,5.31,0,0,0,4.9,8.1,5.31,5.31,0,0,0,1,6.5,5.31,5.31,0,0,0,4.9,4.9,5.31,5.31,0,0,0,6.5,1,5.31,5.31,0,0,0,8.1,4.9,5.31,5.31,0,0,0,12,6.5,5.46,5.46,0,0,0,6.5,12Z\"/>\n",
              "  </svg>\n",
              "    </button>\n",
              "    <script>\n",
              "      (() => {\n",
              "      const buttonEl =\n",
              "        document.querySelector('#id_ec904a8b-11bf-4dca-a23a-6d5dfbf2b8af button.colab-df-generate');\n",
              "      buttonEl.style.display =\n",
              "        google.colab.kernel.accessAllowed ? 'block' : 'none';\n",
              "\n",
              "      buttonEl.onclick = () => {\n",
              "        google.colab.notebook.generateWithVariable('Ship');\n",
              "      }\n",
              "      })();\n",
              "    </script>\n",
              "  </div>\n",
              "\n",
              "    </div>\n",
              "  </div>\n"
            ]
          },
          "metadata": {},
          "execution_count": 98
        }
      ]
    },
    {
      "cell_type": "code",
      "execution_count": 99,
      "id": "061f4e1e",
      "metadata": {
        "execution": {
          "iopub.execute_input": "2022-11-25T17:11:57.640774Z",
          "iopub.status.busy": "2022-11-25T17:11:57.639499Z",
          "iopub.status.idle": "2022-11-25T17:11:57.654576Z",
          "shell.execute_reply": "2022-11-25T17:11:57.653407Z"
        },
        "papermill": {
          "duration": 0.032774,
          "end_time": "2022-11-25T17:11:57.656958",
          "exception": false,
          "start_time": "2022-11-25T17:11:57.624184",
          "status": "completed"
        },
        "tags": [],
        "id": "061f4e1e",
        "colab": {
          "base_uri": "https://localhost:8080/",
          "height": 363
        },
        "outputId": "a6fd886a-4f98-4adf-b6fd-9bdb198f3e0a"
      },
      "outputs": [
        {
          "output_type": "execute_result",
          "data": {
            "text/plain": [
              "                                      Name     Sex      Fare  Survived\n",
              "258                       Ward, Miss. Anna  female  512.3292         1\n",
              "737                 Lesurer, Mr. Gustave J    male  512.3292         1\n",
              "679     Cardeza, Mr. Thomas Drake Martinez    male  512.3292         1\n",
              "88              Fortune, Miss. Mabel Helen  female  263.0000         1\n",
              "27          Fortune, Mr. Charles Alexander    male  263.0000         0\n",
              "341         Fortune, Miss. Alice Elizabeth  female  263.0000         1\n",
              "438                      Fortune, Mr. Mark    male  263.0000         0\n",
              "311             Ryerson, Miss. Emily Borie  female  262.3750         1\n",
              "742  Ryerson, Miss. Susan Parker \"Suzette\"  female  262.3750         1\n",
              "118               Baxter, Mr. Quigg Edmond    male  247.5208         0"
            ],
            "text/html": [
              "\n",
              "  <div id=\"df-baa2869a-a8d3-4b30-b14f-9b678ee142e9\" class=\"colab-df-container\">\n",
              "    <div>\n",
              "<style scoped>\n",
              "    .dataframe tbody tr th:only-of-type {\n",
              "        vertical-align: middle;\n",
              "    }\n",
              "\n",
              "    .dataframe tbody tr th {\n",
              "        vertical-align: top;\n",
              "    }\n",
              "\n",
              "    .dataframe thead th {\n",
              "        text-align: right;\n",
              "    }\n",
              "</style>\n",
              "<table border=\"1\" class=\"dataframe\">\n",
              "  <thead>\n",
              "    <tr style=\"text-align: right;\">\n",
              "      <th></th>\n",
              "      <th>Name</th>\n",
              "      <th>Sex</th>\n",
              "      <th>Fare</th>\n",
              "      <th>Survived</th>\n",
              "    </tr>\n",
              "  </thead>\n",
              "  <tbody>\n",
              "    <tr>\n",
              "      <th>258</th>\n",
              "      <td>Ward, Miss. Anna</td>\n",
              "      <td>female</td>\n",
              "      <td>512.3292</td>\n",
              "      <td>1</td>\n",
              "    </tr>\n",
              "    <tr>\n",
              "      <th>737</th>\n",
              "      <td>Lesurer, Mr. Gustave J</td>\n",
              "      <td>male</td>\n",
              "      <td>512.3292</td>\n",
              "      <td>1</td>\n",
              "    </tr>\n",
              "    <tr>\n",
              "      <th>679</th>\n",
              "      <td>Cardeza, Mr. Thomas Drake Martinez</td>\n",
              "      <td>male</td>\n",
              "      <td>512.3292</td>\n",
              "      <td>1</td>\n",
              "    </tr>\n",
              "    <tr>\n",
              "      <th>88</th>\n",
              "      <td>Fortune, Miss. Mabel Helen</td>\n",
              "      <td>female</td>\n",
              "      <td>263.0000</td>\n",
              "      <td>1</td>\n",
              "    </tr>\n",
              "    <tr>\n",
              "      <th>27</th>\n",
              "      <td>Fortune, Mr. Charles Alexander</td>\n",
              "      <td>male</td>\n",
              "      <td>263.0000</td>\n",
              "      <td>0</td>\n",
              "    </tr>\n",
              "    <tr>\n",
              "      <th>341</th>\n",
              "      <td>Fortune, Miss. Alice Elizabeth</td>\n",
              "      <td>female</td>\n",
              "      <td>263.0000</td>\n",
              "      <td>1</td>\n",
              "    </tr>\n",
              "    <tr>\n",
              "      <th>438</th>\n",
              "      <td>Fortune, Mr. Mark</td>\n",
              "      <td>male</td>\n",
              "      <td>263.0000</td>\n",
              "      <td>0</td>\n",
              "    </tr>\n",
              "    <tr>\n",
              "      <th>311</th>\n",
              "      <td>Ryerson, Miss. Emily Borie</td>\n",
              "      <td>female</td>\n",
              "      <td>262.3750</td>\n",
              "      <td>1</td>\n",
              "    </tr>\n",
              "    <tr>\n",
              "      <th>742</th>\n",
              "      <td>Ryerson, Miss. Susan Parker \"Suzette\"</td>\n",
              "      <td>female</td>\n",
              "      <td>262.3750</td>\n",
              "      <td>1</td>\n",
              "    </tr>\n",
              "    <tr>\n",
              "      <th>118</th>\n",
              "      <td>Baxter, Mr. Quigg Edmond</td>\n",
              "      <td>male</td>\n",
              "      <td>247.5208</td>\n",
              "      <td>0</td>\n",
              "    </tr>\n",
              "  </tbody>\n",
              "</table>\n",
              "</div>\n",
              "    <div class=\"colab-df-buttons\">\n",
              "\n",
              "  <div class=\"colab-df-container\">\n",
              "    <button class=\"colab-df-convert\" onclick=\"convertToInteractive('df-baa2869a-a8d3-4b30-b14f-9b678ee142e9')\"\n",
              "            title=\"Convert this dataframe to an interactive table.\"\n",
              "            style=\"display:none;\">\n",
              "\n",
              "  <svg xmlns=\"http://www.w3.org/2000/svg\" height=\"24px\" viewBox=\"0 -960 960 960\">\n",
              "    <path d=\"M120-120v-720h720v720H120Zm60-500h600v-160H180v160Zm220 220h160v-160H400v160Zm0 220h160v-160H400v160ZM180-400h160v-160H180v160Zm440 0h160v-160H620v160ZM180-180h160v-160H180v160Zm440 0h160v-160H620v160Z\"/>\n",
              "  </svg>\n",
              "    </button>\n",
              "\n",
              "  <style>\n",
              "    .colab-df-container {\n",
              "      display:flex;\n",
              "      gap: 12px;\n",
              "    }\n",
              "\n",
              "    .colab-df-convert {\n",
              "      background-color: #E8F0FE;\n",
              "      border: none;\n",
              "      border-radius: 50%;\n",
              "      cursor: pointer;\n",
              "      display: none;\n",
              "      fill: #1967D2;\n",
              "      height: 32px;\n",
              "      padding: 0 0 0 0;\n",
              "      width: 32px;\n",
              "    }\n",
              "\n",
              "    .colab-df-convert:hover {\n",
              "      background-color: #E2EBFA;\n",
              "      box-shadow: 0px 1px 2px rgba(60, 64, 67, 0.3), 0px 1px 3px 1px rgba(60, 64, 67, 0.15);\n",
              "      fill: #174EA6;\n",
              "    }\n",
              "\n",
              "    .colab-df-buttons div {\n",
              "      margin-bottom: 4px;\n",
              "    }\n",
              "\n",
              "    [theme=dark] .colab-df-convert {\n",
              "      background-color: #3B4455;\n",
              "      fill: #D2E3FC;\n",
              "    }\n",
              "\n",
              "    [theme=dark] .colab-df-convert:hover {\n",
              "      background-color: #434B5C;\n",
              "      box-shadow: 0px 1px 3px 1px rgba(0, 0, 0, 0.15);\n",
              "      filter: drop-shadow(0px 1px 2px rgba(0, 0, 0, 0.3));\n",
              "      fill: #FFFFFF;\n",
              "    }\n",
              "  </style>\n",
              "\n",
              "    <script>\n",
              "      const buttonEl =\n",
              "        document.querySelector('#df-baa2869a-a8d3-4b30-b14f-9b678ee142e9 button.colab-df-convert');\n",
              "      buttonEl.style.display =\n",
              "        google.colab.kernel.accessAllowed ? 'block' : 'none';\n",
              "\n",
              "      async function convertToInteractive(key) {\n",
              "        const element = document.querySelector('#df-baa2869a-a8d3-4b30-b14f-9b678ee142e9');\n",
              "        const dataTable =\n",
              "          await google.colab.kernel.invokeFunction('convertToInteractive',\n",
              "                                                    [key], {});\n",
              "        if (!dataTable) return;\n",
              "\n",
              "        const docLinkHtml = 'Like what you see? Visit the ' +\n",
              "          '<a target=\"_blank\" href=https://colab.research.google.com/notebooks/data_table.ipynb>data table notebook</a>'\n",
              "          + ' to learn more about interactive tables.';\n",
              "        element.innerHTML = '';\n",
              "        dataTable['output_type'] = 'display_data';\n",
              "        await google.colab.output.renderOutput(dataTable, element);\n",
              "        const docLink = document.createElement('div');\n",
              "        docLink.innerHTML = docLinkHtml;\n",
              "        element.appendChild(docLink);\n",
              "      }\n",
              "    </script>\n",
              "  </div>\n",
              "\n",
              "\n",
              "<div id=\"df-8dee0056-3e22-4219-911a-253e5608333b\">\n",
              "  <button class=\"colab-df-quickchart\" onclick=\"quickchart('df-8dee0056-3e22-4219-911a-253e5608333b')\"\n",
              "            title=\"Suggest charts\"\n",
              "            style=\"display:none;\">\n",
              "\n",
              "<svg xmlns=\"http://www.w3.org/2000/svg\" height=\"24px\"viewBox=\"0 0 24 24\"\n",
              "     width=\"24px\">\n",
              "    <g>\n",
              "        <path d=\"M19 3H5c-1.1 0-2 .9-2 2v14c0 1.1.9 2 2 2h14c1.1 0 2-.9 2-2V5c0-1.1-.9-2-2-2zM9 17H7v-7h2v7zm4 0h-2V7h2v10zm4 0h-2v-4h2v4z\"/>\n",
              "    </g>\n",
              "</svg>\n",
              "  </button>\n",
              "\n",
              "<style>\n",
              "  .colab-df-quickchart {\n",
              "      --bg-color: #E8F0FE;\n",
              "      --fill-color: #1967D2;\n",
              "      --hover-bg-color: #E2EBFA;\n",
              "      --hover-fill-color: #174EA6;\n",
              "      --disabled-fill-color: #AAA;\n",
              "      --disabled-bg-color: #DDD;\n",
              "  }\n",
              "\n",
              "  [theme=dark] .colab-df-quickchart {\n",
              "      --bg-color: #3B4455;\n",
              "      --fill-color: #D2E3FC;\n",
              "      --hover-bg-color: #434B5C;\n",
              "      --hover-fill-color: #FFFFFF;\n",
              "      --disabled-bg-color: #3B4455;\n",
              "      --disabled-fill-color: #666;\n",
              "  }\n",
              "\n",
              "  .colab-df-quickchart {\n",
              "    background-color: var(--bg-color);\n",
              "    border: none;\n",
              "    border-radius: 50%;\n",
              "    cursor: pointer;\n",
              "    display: none;\n",
              "    fill: var(--fill-color);\n",
              "    height: 32px;\n",
              "    padding: 0;\n",
              "    width: 32px;\n",
              "  }\n",
              "\n",
              "  .colab-df-quickchart:hover {\n",
              "    background-color: var(--hover-bg-color);\n",
              "    box-shadow: 0 1px 2px rgba(60, 64, 67, 0.3), 0 1px 3px 1px rgba(60, 64, 67, 0.15);\n",
              "    fill: var(--button-hover-fill-color);\n",
              "  }\n",
              "\n",
              "  .colab-df-quickchart-complete:disabled,\n",
              "  .colab-df-quickchart-complete:disabled:hover {\n",
              "    background-color: var(--disabled-bg-color);\n",
              "    fill: var(--disabled-fill-color);\n",
              "    box-shadow: none;\n",
              "  }\n",
              "\n",
              "  .colab-df-spinner {\n",
              "    border: 2px solid var(--fill-color);\n",
              "    border-color: transparent;\n",
              "    border-bottom-color: var(--fill-color);\n",
              "    animation:\n",
              "      spin 1s steps(1) infinite;\n",
              "  }\n",
              "\n",
              "  @keyframes spin {\n",
              "    0% {\n",
              "      border-color: transparent;\n",
              "      border-bottom-color: var(--fill-color);\n",
              "      border-left-color: var(--fill-color);\n",
              "    }\n",
              "    20% {\n",
              "      border-color: transparent;\n",
              "      border-left-color: var(--fill-color);\n",
              "      border-top-color: var(--fill-color);\n",
              "    }\n",
              "    30% {\n",
              "      border-color: transparent;\n",
              "      border-left-color: var(--fill-color);\n",
              "      border-top-color: var(--fill-color);\n",
              "      border-right-color: var(--fill-color);\n",
              "    }\n",
              "    40% {\n",
              "      border-color: transparent;\n",
              "      border-right-color: var(--fill-color);\n",
              "      border-top-color: var(--fill-color);\n",
              "    }\n",
              "    60% {\n",
              "      border-color: transparent;\n",
              "      border-right-color: var(--fill-color);\n",
              "    }\n",
              "    80% {\n",
              "      border-color: transparent;\n",
              "      border-right-color: var(--fill-color);\n",
              "      border-bottom-color: var(--fill-color);\n",
              "    }\n",
              "    90% {\n",
              "      border-color: transparent;\n",
              "      border-bottom-color: var(--fill-color);\n",
              "    }\n",
              "  }\n",
              "</style>\n",
              "\n",
              "  <script>\n",
              "    async function quickchart(key) {\n",
              "      const quickchartButtonEl =\n",
              "        document.querySelector('#' + key + ' button');\n",
              "      quickchartButtonEl.disabled = true;  // To prevent multiple clicks.\n",
              "      quickchartButtonEl.classList.add('colab-df-spinner');\n",
              "      try {\n",
              "        const charts = await google.colab.kernel.invokeFunction(\n",
              "            'suggestCharts', [key], {});\n",
              "      } catch (error) {\n",
              "        console.error('Error during call to suggestCharts:', error);\n",
              "      }\n",
              "      quickchartButtonEl.classList.remove('colab-df-spinner');\n",
              "      quickchartButtonEl.classList.add('colab-df-quickchart-complete');\n",
              "    }\n",
              "    (() => {\n",
              "      let quickchartButtonEl =\n",
              "        document.querySelector('#df-8dee0056-3e22-4219-911a-253e5608333b button');\n",
              "      quickchartButtonEl.style.display =\n",
              "        google.colab.kernel.accessAllowed ? 'block' : 'none';\n",
              "    })();\n",
              "  </script>\n",
              "</div>\n",
              "\n",
              "    </div>\n",
              "  </div>\n"
            ]
          },
          "metadata": {},
          "execution_count": 99
        }
      ],
      "source": [
        "# Let' see that 10 Passengers with Highest Fair are Survived or not.\n",
        "\n",
        "Ship.sort_values(\"Fare\",ascending=False)[[\"Name\",\"Sex\",\"Fare\",\"Survived\"]][:10]"
      ]
    },
    {
      "cell_type": "markdown",
      "id": "523b0987",
      "metadata": {
        "papermill": {
          "duration": 0.013767,
          "end_time": "2022-11-25T17:11:57.685042",
          "exception": false,
          "start_time": "2022-11-25T17:11:57.671275",
          "status": "completed"
        },
        "tags": [],
        "id": "523b0987"
      },
      "source": [
        "\n",
        "<div style=\"color:white;\n",
        "           display:fill;\n",
        "           border-radius:5px;\n",
        "           background-color:#5642C5;\n",
        "           font-size:110%;\n",
        "           font-family:Verdana;\n",
        "           letter-spacing:0.5px\">\n",
        "\n",
        "<p style=\"padding: 10px;\n",
        "              color:white;\">                        \n",
        "                           Observation- Highest Fare paid have most survivals\n",
        "    \n",
        "</p>\n",
        "</div>"
      ]
    },
    {
      "cell_type": "code",
      "execution_count": 100,
      "id": "d8262fb2",
      "metadata": {
        "execution": {
          "iopub.execute_input": "2022-11-25T17:11:57.715801Z",
          "iopub.status.busy": "2022-11-25T17:11:57.714569Z",
          "iopub.status.idle": "2022-11-25T17:11:57.971390Z",
          "shell.execute_reply": "2022-11-25T17:11:57.970084Z"
        },
        "papermill": {
          "duration": 0.274637,
          "end_time": "2022-11-25T17:11:57.973832",
          "exception": false,
          "start_time": "2022-11-25T17:11:57.699195",
          "status": "completed"
        },
        "tags": [],
        "id": "d8262fb2",
        "colab": {
          "base_uri": "https://localhost:8080/",
          "height": 451
        },
        "outputId": "4956a9f6-414c-4c94-b670-503d399fe263"
      },
      "outputs": [
        {
          "output_type": "display_data",
          "data": {
            "text/plain": [
              "<Figure size 640x480 with 1 Axes>"
            ],
            "image/png": "[encoded data removed]"
          },
          "metadata": {}
        }
      ],
      "source": [
        "sns.histplot(binwidth=0.5, x=\"Sex\", hue=\"Survived\", data=Ship, stat=\"count\", multiple=\"stack\");\n",
        "\n",
        "\n"
      ]
    },
    {
      "cell_type": "markdown",
      "id": "cd5ba480",
      "metadata": {
        "papermill": {
          "duration": 0.014396,
          "end_time": "2022-11-25T17:11:58.002961",
          "exception": false,
          "start_time": "2022-11-25T17:11:57.988565",
          "status": "completed"
        },
        "tags": [],
        "id": "cd5ba480"
      },
      "source": [
        "\n",
        "<div style=\"color:white;\n",
        "           display:fill;\n",
        "           border-radius:5px;\n",
        "           background-color:#5642C5;\n",
        "           font-size:110%;\n",
        "           font-family:Verdana;\n",
        "           letter-spacing:0.5px\">\n",
        "\n",
        "<p style=\"padding: 10px;\n",
        "              color:white;\">                        \n",
        "                           Observation- Females are holding high survivals\n",
        "    \n",
        "</p>\n",
        "</div>"
      ]
    },
    {
      "cell_type": "markdown",
      "id": "619b3daa",
      "metadata": {
        "papermill": {
          "duration": 0.014238,
          "end_time": "2022-11-25T17:11:58.031938",
          "exception": false,
          "start_time": "2022-11-25T17:11:58.017700",
          "status": "completed"
        },
        "tags": [],
        "id": "619b3daa"
      },
      "source": [
        "# How Age is distributed ?"
      ]
    },
    {
      "cell_type": "code",
      "execution_count": 101,
      "id": "5562e186",
      "metadata": {
        "execution": {
          "iopub.execute_input": "2022-11-25T17:11:58.063425Z",
          "iopub.status.busy": "2022-11-25T17:11:58.062980Z",
          "iopub.status.idle": "2022-11-25T17:11:58.473805Z",
          "shell.execute_reply": "2022-11-25T17:11:58.472607Z"
        },
        "papermill": {
          "duration": 0.42961,
          "end_time": "2022-11-25T17:11:58.476346",
          "exception": false,
          "start_time": "2022-11-25T17:11:58.046736",
          "status": "completed"
        },
        "tags": [],
        "id": "5562e186",
        "colab": {
          "base_uri": "https://localhost:8080/",
          "height": 586
        },
        "outputId": "f8f72efd-5123-40bf-dd2c-426632b18762"
      },
      "outputs": [
        {
          "output_type": "stream",
          "name": "stderr",
          "text": [
            "WARNING:matplotlib.legend:No artists with labels found to put in legend.  Note that artists whose label start with an underscore are ignored when legend() is called with no argument.\n"
          ]
        },
        {
          "output_type": "display_data",
          "data": {
            "text/plain": [
              "<Figure size 2000x1000 with 0 Axes>"
            ]
          },
          "metadata": {}
        },
        {
          "output_type": "display_data",
          "data": {
            "text/plain": [
              "<Figure size 500x500 with 1 Axes>"
            ],
            "image/png": "[encoded data removed]"
          },
          "metadata": {}
        }
      ],
      "source": [
        "plt.figure(figsize=(20,10));\n",
        "sns.displot(Ship['Age'],kde=True,color = 'orange');\n",
        "plt.title(\"Age Distribution\",size=15,color='red');\n",
        "plt.legend();\n"
      ]
    },
    {
      "cell_type": "markdown",
      "id": "173ba78f",
      "metadata": {
        "papermill": {
          "duration": 0.014451,
          "end_time": "2022-11-25T17:11:58.505695",
          "exception": false,
          "start_time": "2022-11-25T17:11:58.491244",
          "status": "completed"
        },
        "tags": [],
        "id": "173ba78f"
      },
      "source": [
        "\n",
        "<div style=\"color:white;\n",
        "           display:fill;\n",
        "           border-radius:5px;\n",
        "           background-color:#5642C5;\n",
        "           font-size:110%;\n",
        "           font-family:Verdana;\n",
        "           letter-spacing:0.5px\">\n",
        "\n",
        "<p style=\"padding: 10px;\n",
        "              color:white;\">                        \n",
        "                           Observation- Young Age people between 20 to 30 age are mostly observed    \n",
        "</p>\n",
        "</div>"
      ]
    },
    {
      "cell_type": "code",
      "execution_count": 102,
      "id": "76d3bd16",
      "metadata": {
        "execution": {
          "iopub.execute_input": "2022-11-25T17:11:58.537112Z",
          "iopub.status.busy": "2022-11-25T17:11:58.536675Z",
          "iopub.status.idle": "2022-11-25T17:11:58.816603Z",
          "shell.execute_reply": "2022-11-25T17:11:58.815164Z"
        },
        "papermill": {
          "duration": 0.298692,
          "end_time": "2022-11-25T17:11:58.819157",
          "exception": false,
          "start_time": "2022-11-25T17:11:58.520465",
          "status": "completed"
        },
        "tags": [],
        "id": "76d3bd16",
        "colab": {
          "base_uri": "https://localhost:8080/",
          "height": 566
        },
        "outputId": "34e7c094-9615-4fa5-ee15-7d852d80a49c"
      },
      "outputs": [
        {
          "output_type": "display_data",
          "data": {
            "text/plain": [
              "<Figure size 1200x600 with 1 Axes>"
            ],
            "image/png": "[encoded data removed]"
          },
          "metadata": {}
        }
      ],
      "source": [
        "# Let's see Age Distribution by Survived Column\n",
        "plt.figure(figsize=(12,6))\n",
        "sns.kdeplot(x=\"Age\",data=Ship[Ship['Survived']==0].dropna(),shade=True,alpha=1,color=\"red\",label=\"Not Survived\")\n",
        "sns.kdeplot(x=\"Age\",data=Ship[Ship['Survived']==1].dropna(),shade=True,alpha=0.5,color=\"green\",label=\"Survived\")\n",
        "plt.title(\"Age Distribution by Survived Column\",size=15,color='red')\n",
        "plt.xlabel(\"Age\",color='red')\n",
        "plt.ylabel(\"Density\",color='red')\n",
        "plt.legend()\n",
        "plt.show()"
      ]
    },
    {
      "cell_type": "markdown",
      "id": "9de9dbc8",
      "metadata": {
        "papermill": {
          "duration": 0.015147,
          "end_time": "2022-11-25T17:11:58.850496",
          "exception": false,
          "start_time": "2022-11-25T17:11:58.835349",
          "status": "completed"
        },
        "tags": [],
        "id": "9de9dbc8"
      },
      "source": [
        "\n",
        "<div style=\"color:white;\n",
        "           display:fill;\n",
        "           border-radius:5px;\n",
        "           background-color:#5642C5;\n",
        "           font-size:110%;\n",
        "           font-family:Verdana;\n",
        "           letter-spacing:0.5px\">\n",
        "\n",
        "<p style=\"padding: 10px;\n",
        "              color:white;\">                        \n",
        "                           Observation- Senior citizens have less survival rate\n",
        "</p>\n",
        "</div>"
      ]
    },
    {
      "cell_type": "markdown",
      "id": "5e7f05ff",
      "metadata": {
        "papermill": {
          "duration": 0.015591,
          "end_time": "2022-11-25T17:11:58.881396",
          "exception": false,
          "start_time": "2022-11-25T17:11:58.865805",
          "status": "completed"
        },
        "tags": [],
        "id": "5e7f05ff"
      },
      "source": [
        "# Visualize embarked column with Survived"
      ]
    },
    {
      "cell_type": "code",
      "execution_count": 103,
      "id": "75101e38",
      "metadata": {
        "execution": {
          "iopub.execute_input": "2022-11-25T17:11:58.913786Z",
          "iopub.status.busy": "2022-11-25T17:11:58.913312Z",
          "iopub.status.idle": "2022-11-25T17:11:59.173238Z",
          "shell.execute_reply": "2022-11-25T17:11:59.172016Z"
        },
        "papermill": {
          "duration": 0.279689,
          "end_time": "2022-11-25T17:11:59.176359",
          "exception": false,
          "start_time": "2022-11-25T17:11:58.896670",
          "status": "completed"
        },
        "tags": [],
        "id": "75101e38",
        "colab": {
          "base_uri": "https://localhost:8080/",
          "height": 449
        },
        "outputId": "5227dc56-7363-4cde-d571-77da5dccdd38"
      },
      "outputs": [
        {
          "output_type": "display_data",
          "data": {
            "text/plain": [
              "<Figure size 640x480 with 1 Axes>"
            ],
            "image/png": "[encoded data removed]"
          },
          "metadata": {}
        }
      ],
      "source": [
        "sns.histplot(binwidth=0.5, x=\"Embarked\", hue=\"Survived\", data=Ship, stat=\"count\", multiple=\"stack\");\n",
        "\n",
        "\n"
      ]
    },
    {
      "cell_type": "markdown",
      "id": "225d8868",
      "metadata": {
        "papermill": {
          "duration": 0.018128,
          "end_time": "2022-11-25T17:11:59.211178",
          "exception": false,
          "start_time": "2022-11-25T17:11:59.193050",
          "status": "completed"
        },
        "tags": [],
        "id": "225d8868"
      },
      "source": [
        "\n",
        "\n",
        "<div style=\"color:white;\n",
        "           display:fill;\n",
        "           border-radius:5px;\n",
        "           background-color:#5642C5;\n",
        "           font-size:110%;\n",
        "           font-family:Verdana;\n",
        "           letter-spacing:0.5px\">\n",
        "\n",
        "<p style=\"padding: 10px;\n",
        "              color:white;\">                        \n",
        "                           Observation- Around 80% Passengers Mounted from S(Southampton) and survival rate is very low\n",
        "</p>\n",
        "</div>"
      ]
    },
    {
      "cell_type": "markdown",
      "id": "c4ed571a",
      "metadata": {
        "papermill": {
          "duration": 0.015725,
          "end_time": "2022-11-25T17:11:59.243211",
          "exception": false,
          "start_time": "2022-11-25T17:11:59.227486",
          "status": "completed"
        },
        "tags": [],
        "id": "c4ed571a"
      },
      "source": [
        "# Comparing Pclass with Survival"
      ]
    },
    {
      "cell_type": "code",
      "execution_count": 104,
      "id": "a0c6a794",
      "metadata": {
        "execution": {
          "iopub.execute_input": "2022-11-25T17:11:59.276288Z",
          "iopub.status.busy": "2022-11-25T17:11:59.275535Z",
          "iopub.status.idle": "2022-11-25T17:11:59.492496Z",
          "shell.execute_reply": "2022-11-25T17:11:59.491212Z"
        },
        "papermill": {
          "duration": 0.2361,
          "end_time": "2022-11-25T17:11:59.494802",
          "exception": false,
          "start_time": "2022-11-25T17:11:59.258702",
          "status": "completed"
        },
        "tags": [],
        "id": "a0c6a794",
        "colab": {
          "base_uri": "https://localhost:8080/",
          "height": 474
        },
        "outputId": "e03534bc-f557-4883-e5ec-5be02502e769"
      },
      "outputs": [
        {
          "output_type": "display_data",
          "data": {
            "text/plain": [
              "<Figure size 640x480 with 1 Axes>"
            ],
            "image/png": "[encoded data removed]"
          },
          "metadata": {}
        }
      ],
      "source": [
        "sns.countplot(x=\"Survived\",data=Ship,hue=\"Pclass\")\n",
        "plt.title(\"Pclass Vs. Survive\",size=15)\n",
        "plt.xlabel(\"Pclass\")\n",
        "plt.ylabel(\"Count\")\n",
        "plt.show()"
      ]
    },
    {
      "cell_type": "markdown",
      "id": "4b7bbbb3",
      "metadata": {
        "papermill": {
          "duration": 0.016126,
          "end_time": "2022-11-25T17:11:59.526934",
          "exception": false,
          "start_time": "2022-11-25T17:11:59.510808",
          "status": "completed"
        },
        "tags": [],
        "id": "4b7bbbb3"
      },
      "source": [
        "\n",
        "<div style=\"color:white;\n",
        "           display:fill;\n",
        "           border-radius:5px;\n",
        "           background-color:#5642C5;\n",
        "           font-size:110%;\n",
        "           font-family:Verdana;\n",
        "           letter-spacing:0.5px\">\n",
        "\n",
        "<p style=\"padding: 10px;\n",
        "              color:white;\">                        \n",
        "                           Observation- Class 3 citizens have less survival rate\n",
        "</p>\n",
        "</div>"
      ]
    },
    {
      "cell_type": "markdown",
      "id": "b646b82d",
      "metadata": {
        "papermill": {
          "duration": 0.015532,
          "end_time": "2022-11-25T17:11:59.558382",
          "exception": false,
          "start_time": "2022-11-25T17:11:59.542850",
          "status": "completed"
        },
        "tags": [],
        "id": "b646b82d"
      },
      "source": [
        "# Age of Passengers in Every Pclass"
      ]
    },
    {
      "cell_type": "code",
      "execution_count": 105,
      "id": "666c72ef",
      "metadata": {
        "execution": {
          "iopub.execute_input": "2022-11-25T17:11:59.591851Z",
          "iopub.status.busy": "2022-11-25T17:11:59.591409Z",
          "iopub.status.idle": "2022-11-25T17:11:59.866878Z",
          "shell.execute_reply": "2022-11-25T17:11:59.865649Z"
        },
        "papermill": {
          "duration": 0.295422,
          "end_time": "2022-11-25T17:11:59.869653",
          "exception": false,
          "start_time": "2022-11-25T17:11:59.574231",
          "status": "completed"
        },
        "tags": [],
        "id": "666c72ef",
        "colab": {
          "base_uri": "https://localhost:8080/",
          "height": 491
        },
        "outputId": "fb70d8d2-271c-4195-8f98-552871d9f214"
      },
      "outputs": [
        {
          "output_type": "display_data",
          "data": {
            "text/plain": [
              "<Figure size 640x480 with 1 Axes>"
            ],
            "image/png": "[encoded data removed]"
          },
          "metadata": {}
        }
      ],
      "source": [
        "sns.barplot(x=\"Pclass\",y=\"Age\",data=Ship)\n",
        "plt.title(\"Age average by Pclass\",size=30)\n",
        "plt.xlabel(\"Pclass\")\n",
        "plt.ylabel(\"Age\")\n",
        "plt.show()"
      ]
    },
    {
      "cell_type": "markdown",
      "id": "cc78053b",
      "metadata": {
        "papermill": {
          "duration": 0.016474,
          "end_time": "2022-11-25T17:11:59.902933",
          "exception": false,
          "start_time": "2022-11-25T17:11:59.886459",
          "status": "completed"
        },
        "tags": [],
        "id": "cc78053b"
      },
      "source": [
        "\n",
        "<div style=\"color:white;\n",
        "           display:fill;\n",
        "           border-radius:5px;\n",
        "           background-color:#5642C5;\n",
        "           font-size:110%;\n",
        "           font-family:Verdana;\n",
        "           letter-spacing:0.5px\">\n",
        "\n",
        "<p style=\"padding: 10px;\n",
        "              color:white;\">                        \n",
        "                           Observation- PClass 1 Average age is around 37, PClass 2 Average age is around 30 and PClass 3 Average age is around 25.\n",
        "</p>\n",
        "</div>"
      ]
    },
    {
      "cell_type": "markdown",
      "id": "ccbc95ca",
      "metadata": {
        "papermill": {
          "duration": 0.016478,
          "end_time": "2022-11-25T17:11:59.936328",
          "exception": false,
          "start_time": "2022-11-25T17:11:59.919850",
          "status": "completed"
        },
        "tags": [],
        "id": "ccbc95ca"
      },
      "source": [
        "\n",
        "<div style=\"text-align: left; background-color:#F19F9F; font-family: Trebuchet MS; color:#494545; padding: 20px; line-height:1.25;border-radius:1px; margin-bottom: 0em; text-align: center; font-size: 30px\">Data Processing</div>"
      ]
    },
    {
      "cell_type": "code",
      "execution_count": 106,
      "id": "c40583e9",
      "metadata": {
        "execution": {
          "iopub.execute_input": "2022-11-25T17:11:59.971343Z",
          "iopub.status.busy": "2022-11-25T17:11:59.970896Z",
          "iopub.status.idle": "2022-11-25T17:11:59.978698Z",
          "shell.execute_reply": "2022-11-25T17:11:59.977595Z"
        },
        "papermill": {
          "duration": 0.028111,
          "end_time": "2022-11-25T17:11:59.981017",
          "exception": false,
          "start_time": "2022-11-25T17:11:59.952906",
          "status": "completed"
        },
        "tags": [],
        "id": "c40583e9"
      },
      "outputs": [],
      "source": [
        "from sklearn.impute import SimpleImputer\n",
        "median_imputer = SimpleImputer(missing_values=np.nan, strategy='median')\n",
        "Ship['Age'] = median_imputer.fit_transform(Ship['Age'].values.reshape(-1,1))"
      ]
    },
    {
      "cell_type": "code",
      "execution_count": 107,
      "id": "d4f2ec0b",
      "metadata": {
        "execution": {
          "iopub.execute_input": "2022-11-25T17:12:00.015680Z",
          "iopub.status.busy": "2022-11-25T17:12:00.015262Z",
          "iopub.status.idle": "2022-11-25T17:12:00.020890Z",
          "shell.execute_reply": "2022-11-25T17:12:00.019752Z"
        },
        "papermill": {
          "duration": 0.025801,
          "end_time": "2022-11-25T17:12:00.023186",
          "exception": false,
          "start_time": "2022-11-25T17:11:59.997385",
          "status": "completed"
        },
        "tags": [],
        "id": "d4f2ec0b"
      },
      "outputs": [],
      "source": [
        "# Embarked Column has Just 2 Null values, we will drop that\n",
        "Ship['Embarked'].dropna(inplace=True)"
      ]
    },
    {
      "cell_type": "code",
      "execution_count": 108,
      "id": "58e1312d",
      "metadata": {
        "execution": {
          "iopub.execute_input": "2022-11-25T17:12:00.058385Z",
          "iopub.status.busy": "2022-11-25T17:12:00.057568Z",
          "iopub.status.idle": "2022-11-25T17:12:00.063698Z",
          "shell.execute_reply": "2022-11-25T17:12:00.062889Z"
        },
        "papermill": {
          "duration": 0.025739,
          "end_time": "2022-11-25T17:12:00.065846",
          "exception": false,
          "start_time": "2022-11-25T17:12:00.040107",
          "status": "completed"
        },
        "tags": [],
        "id": "58e1312d"
      },
      "outputs": [],
      "source": [
        "# Removing Irrevelant Features\n",
        "Ship.drop(columns=[\"PassengerId\",\"Name\",\"Ticket\",\"Cabin\"],inplace=True)"
      ]
    },
    {
      "cell_type": "code",
      "execution_count": 109,
      "id": "5b9c519e",
      "metadata": {
        "execution": {
          "iopub.execute_input": "2022-11-25T17:12:00.101759Z",
          "iopub.status.busy": "2022-11-25T17:12:00.100385Z",
          "iopub.status.idle": "2022-11-25T17:12:00.107937Z",
          "shell.execute_reply": "2022-11-25T17:12:00.106591Z"
        },
        "papermill": {
          "duration": 0.027731,
          "end_time": "2022-11-25T17:12:00.110373",
          "exception": false,
          "start_time": "2022-11-25T17:12:00.082642",
          "status": "completed"
        },
        "tags": [],
        "id": "5b9c519e"
      },
      "outputs": [],
      "source": [
        "# Bifurcation of X and y\n",
        "X = Ship.drop(\"Survived\",axis=1)\n",
        "y = Ship[\"Survived\"]"
      ]
    },
    {
      "cell_type": "code",
      "execution_count": 110,
      "id": "4608a2ad",
      "metadata": {
        "execution": {
          "iopub.execute_input": "2022-11-25T17:12:00.145892Z",
          "iopub.status.busy": "2022-11-25T17:12:00.145139Z",
          "iopub.status.idle": "2022-11-25T17:12:00.153391Z",
          "shell.execute_reply": "2022-11-25T17:12:00.152180Z"
        },
        "papermill": {
          "duration": 0.029481,
          "end_time": "2022-11-25T17:12:00.156303",
          "exception": false,
          "start_time": "2022-11-25T17:12:00.126822",
          "status": "completed"
        },
        "tags": [],
        "id": "4608a2ad"
      },
      "outputs": [],
      "source": [
        "# train and test split\n",
        "X_train,X_test,y_train,y_test = train_test_split(X,y,train_size=0.8,random_state=42,stratify=y)"
      ]
    },
    {
      "cell_type": "code",
      "execution_count": 111,
      "id": "72df4e2a",
      "metadata": {
        "execution": {
          "iopub.execute_input": "2022-11-25T17:12:00.191530Z",
          "iopub.status.busy": "2022-11-25T17:12:00.191025Z",
          "iopub.status.idle": "2022-11-25T17:12:00.197871Z",
          "shell.execute_reply": "2022-11-25T17:12:00.197102Z"
        },
        "papermill": {
          "duration": 0.027101,
          "end_time": "2022-11-25T17:12:00.200239",
          "exception": false,
          "start_time": "2022-11-25T17:12:00.173138",
          "status": "completed"
        },
        "tags": [],
        "id": "72df4e2a"
      },
      "outputs": [],
      "source": [
        "# creating a pipeline for OneHotEncoding of Categorical Columns\n",
        "categorical_processor = ColumnTransformer(transformers=[\n",
        "    (\"OHE\",OneHotEncoder(drop='first'),[\"Sex\",\"Embarked\"]),\n",
        "],remainder=\"passthrough\")\n",
        "\n",
        "pipe = Pipeline(steps=[\n",
        "    (\"Categorical_Processor\",categorical_processor),\n",
        "    (\"Standard Scaling\",StandardScaler()),\n",
        "    (\"Model\",DTC())\n",
        "\n",
        "])"
      ]
    },
    {
      "cell_type": "code",
      "execution_count": 112,
      "id": "ea31524d",
      "metadata": {
        "execution": {
          "iopub.execute_input": "2022-11-25T17:12:00.237269Z",
          "iopub.status.busy": "2022-11-25T17:12:00.235947Z",
          "iopub.status.idle": "2022-11-25T17:12:00.259971Z",
          "shell.execute_reply": "2022-11-25T17:12:00.258559Z"
        },
        "papermill": {
          "duration": 0.0458,
          "end_time": "2022-11-25T17:12:00.262953",
          "exception": false,
          "start_time": "2022-11-25T17:12:00.217153",
          "status": "completed"
        },
        "tags": [],
        "id": "ea31524d",
        "colab": {
          "base_uri": "https://localhost:8080/",
          "height": 223
        },
        "outputId": "8afcca26-0a03-4c36-cbf4-294b326148ef"
      },
      "outputs": [
        {
          "output_type": "execute_result",
          "data": {
            "text/plain": [
              "Pipeline(steps=[('Categorical_Processor',\n",
              "                 ColumnTransformer(remainder='passthrough',\n",
              "                                   transformers=[('OHE',\n",
              "                                                  OneHotEncoder(drop='first'),\n",
              "                                                  ['Sex', 'Embarked'])])),\n",
              "                ('Standard Scaling', StandardScaler()),\n",
              "                ('Model', DecisionTreeClassifier())])"
            ],
            "text/html": [
              "<style>#sk-container-id-2 {color: black;background-color: white;}#sk-container-id-2 pre{padding: 0;}#sk-container-id-2 div.sk-toggleable {background-color: white;}#sk-container-id-2 label.sk-toggleable__label {cursor: pointer;display: block;width: 100%;margin-bottom: 0;padding: 0.3em;box-sizing: border-box;text-align: center;}#sk-container-id-2 label.sk-toggleable__label-arrow:before {content: \"▸\";float: left;margin-right: 0.25em;color: #696969;}#sk-container-id-2 label.sk-toggleable__label-arrow:hover:before {color: black;}#sk-container-id-2 div.sk-estimator:hover label.sk-toggleable__label-arrow:before {color: black;}#sk-container-id-2 div.sk-toggleable__content {max-height: 0;max-width: 0;overflow: hidden;text-align: left;background-color: #f0f8ff;}#sk-container-id-2 div.sk-toggleable__content pre {margin: 0.2em;color: black;border-radius: 0.25em;background-color: #f0f8ff;}#sk-container-id-2 input.sk-toggleable__control:checked~div.sk-toggleable__content {max-height: 200px;max-width: 100%;overflow: auto;}#sk-container-id-2 input.sk-toggleable__control:checked~label.sk-toggleable__label-arrow:before {content: \"▾\";}#sk-container-id-2 div.sk-estimator input.sk-toggleable__control:checked~label.sk-toggleable__label {background-color: #d4ebff;}#sk-container-id-2 div.sk-label input.sk-toggleable__control:checked~label.sk-toggleable__label {background-color: #d4ebff;}#sk-container-id-2 input.sk-hidden--visually {border: 0;clip: rect(1px 1px 1px 1px);clip: rect(1px, 1px, 1px, 1px);height: 1px;margin: -1px;overflow: hidden;padding: 0;position: absolute;width: 1px;}#sk-container-id-2 div.sk-estimator {font-family: monospace;background-color: #f0f8ff;border: 1px dotted black;border-radius: 0.25em;box-sizing: border-box;margin-bottom: 0.5em;}#sk-container-id-2 div.sk-estimator:hover {background-color: #d4ebff;}#sk-container-id-2 div.sk-parallel-item::after {content: \"\";width: 100%;border-bottom: 1px solid gray;flex-grow: 1;}#sk-container-id-2 div.sk-label:hover label.sk-toggleable__label {background-color: #d4ebff;}#sk-container-id-2 div.sk-serial::before {content: \"\";position: absolute;border-left: 1px solid gray;box-sizing: border-box;top: 0;bottom: 0;left: 50%;z-index: 0;}#sk-container-id-2 div.sk-serial {display: flex;flex-direction: column;align-items: center;background-color: white;padding-right: 0.2em;padding-left: 0.2em;position: relative;}#sk-container-id-2 div.sk-item {position: relative;z-index: 1;}#sk-container-id-2 div.sk-parallel {display: flex;align-items: stretch;justify-content: center;background-color: white;position: relative;}#sk-container-id-2 div.sk-item::before, #sk-container-id-2 div.sk-parallel-item::before {content: \"\";position: absolute;border-left: 1px solid gray;box-sizing: border-box;top: 0;bottom: 0;left: 50%;z-index: -1;}#sk-container-id-2 div.sk-parallel-item {display: flex;flex-direction: column;z-index: 1;position: relative;background-color: white;}#sk-container-id-2 div.sk-parallel-item:first-child::after {align-self: flex-end;width: 50%;}#sk-container-id-2 div.sk-parallel-item:last-child::after {align-self: flex-start;width: 50%;}#sk-container-id-2 div.sk-parallel-item:only-child::after {width: 0;}#sk-container-id-2 div.sk-dashed-wrapped {border: 1px dashed gray;margin: 0 0.4em 0.5em 0.4em;box-sizing: border-box;padding-bottom: 0.4em;background-color: white;}#sk-container-id-2 div.sk-label label {font-family: monospace;font-weight: bold;display: inline-block;line-height: 1.2em;}#sk-container-id-2 div.sk-label-container {text-align: center;}#sk-container-id-2 div.sk-container {/* jupyter's `normalize.less` sets `[hidden] { display: none; }` but bootstrap.min.css set `[hidden] { display: none !important; }` so we also need the `!important` here to be able to override the default hidden behavior on the sphinx rendered scikit-learn.org. See: https://github.com/scikit-learn/scikit-learn/issues/21755 */display: inline-block !important;position: relative;}#sk-container-id-2 div.sk-text-repr-fallback {display: none;}</style><div id=\"sk-container-id-2\" class=\"sk-top-container\"><div class=\"sk-text-repr-fallback\"><pre>Pipeline(steps=[(&#x27;Categorical_Processor&#x27;,\n",
              "                 ColumnTransformer(remainder=&#x27;passthrough&#x27;,\n",
              "                                   transformers=[(&#x27;OHE&#x27;,\n",
              "                                                  OneHotEncoder(drop=&#x27;first&#x27;),\n",
              "                                                  [&#x27;Sex&#x27;, &#x27;Embarked&#x27;])])),\n",
              "                (&#x27;Standard Scaling&#x27;, StandardScaler()),\n",
              "                (&#x27;Model&#x27;, DecisionTreeClassifier())])</pre><b>In a Jupyter environment, please rerun this cell to show the HTML representation or trust the notebook. <br />On GitHub, the HTML representation is unable to render, please try loading this page with nbviewer.org.</b></div><div class=\"sk-container\" hidden><div class=\"sk-item sk-dashed-wrapped\"><div class=\"sk-label-container\"><div class=\"sk-label sk-toggleable\"><input class=\"sk-toggleable__control sk-hidden--visually\" id=\"sk-estimator-id-9\" type=\"checkbox\" ><label for=\"sk-estimator-id-9\" class=\"sk-toggleable__label sk-toggleable__label-arrow\">Pipeline</label><div class=\"sk-toggleable__content\"><pre>Pipeline(steps=[(&#x27;Categorical_Processor&#x27;,\n",
              "                 ColumnTransformer(remainder=&#x27;passthrough&#x27;,\n",
              "                                   transformers=[(&#x27;OHE&#x27;,\n",
              "                                                  OneHotEncoder(drop=&#x27;first&#x27;),\n",
              "                                                  [&#x27;Sex&#x27;, &#x27;Embarked&#x27;])])),\n",
              "                (&#x27;Standard Scaling&#x27;, StandardScaler()),\n",
              "                (&#x27;Model&#x27;, DecisionTreeClassifier())])</pre></div></div></div><div class=\"sk-serial\"><div class=\"sk-item sk-dashed-wrapped\"><div class=\"sk-label-container\"><div class=\"sk-label sk-toggleable\"><input class=\"sk-toggleable__control sk-hidden--visually\" id=\"sk-estimator-id-10\" type=\"checkbox\" ><label for=\"sk-estimator-id-10\" class=\"sk-toggleable__label sk-toggleable__label-arrow\">Categorical_Processor: ColumnTransformer</label><div class=\"sk-toggleable__content\"><pre>ColumnTransformer(remainder=&#x27;passthrough&#x27;,\n",
              "                  transformers=[(&#x27;OHE&#x27;, OneHotEncoder(drop=&#x27;first&#x27;),\n",
              "                                 [&#x27;Sex&#x27;, &#x27;Embarked&#x27;])])</pre></div></div></div><div class=\"sk-parallel\"><div class=\"sk-parallel-item\"><div class=\"sk-item\"><div class=\"sk-label-container\"><div class=\"sk-label sk-toggleable\"><input class=\"sk-toggleable__control sk-hidden--visually\" id=\"sk-estimator-id-11\" type=\"checkbox\" ><label for=\"sk-estimator-id-11\" class=\"sk-toggleable__label sk-toggleable__label-arrow\">OHE</label><div class=\"sk-toggleable__content\"><pre>[&#x27;Sex&#x27;, &#x27;Embarked&#x27;]</pre></div></div></div><div class=\"sk-serial\"><div class=\"sk-item\"><div class=\"sk-estimator sk-toggleable\"><input class=\"sk-toggleable__control sk-hidden--visually\" id=\"sk-estimator-id-12\" type=\"checkbox\" ><label for=\"sk-estimator-id-12\" class=\"sk-toggleable__label sk-toggleable__label-arrow\">OneHotEncoder</label><div class=\"sk-toggleable__content\"><pre>OneHotEncoder(drop=&#x27;first&#x27;)</pre></div></div></div></div></div></div><div class=\"sk-parallel-item\"><div class=\"sk-item\"><div class=\"sk-label-container\"><div class=\"sk-label sk-toggleable\"><input class=\"sk-toggleable__control sk-hidden--visually\" id=\"sk-estimator-id-13\" type=\"checkbox\" ><label for=\"sk-estimator-id-13\" class=\"sk-toggleable__label sk-toggleable__label-arrow\">remainder</label><div class=\"sk-toggleable__content\"><pre>[&#x27;Pclass&#x27;, &#x27;Age&#x27;, &#x27;SibSp&#x27;, &#x27;Parch&#x27;, &#x27;Fare&#x27;]</pre></div></div></div><div class=\"sk-serial\"><div class=\"sk-item\"><div class=\"sk-estimator sk-toggleable\"><input class=\"sk-toggleable__control sk-hidden--visually\" id=\"sk-estimator-id-14\" type=\"checkbox\" ><label for=\"sk-estimator-id-14\" class=\"sk-toggleable__label sk-toggleable__label-arrow\">passthrough</label><div class=\"sk-toggleable__content\"><pre>passthrough</pre></div></div></div></div></div></div></div></div><div class=\"sk-item\"><div class=\"sk-estimator sk-toggleable\"><input class=\"sk-toggleable__control sk-hidden--visually\" id=\"sk-estimator-id-15\" type=\"checkbox\" ><label for=\"sk-estimator-id-15\" class=\"sk-toggleable__label sk-toggleable__label-arrow\">StandardScaler</label><div class=\"sk-toggleable__content\"><pre>StandardScaler()</pre></div></div></div><div class=\"sk-item\"><div class=\"sk-estimator sk-toggleable\"><input class=\"sk-toggleable__control sk-hidden--visually\" id=\"sk-estimator-id-16\" type=\"checkbox\" ><label for=\"sk-estimator-id-16\" class=\"sk-toggleable__label sk-toggleable__label-arrow\">DecisionTreeClassifier</label><div class=\"sk-toggleable__content\"><pre>DecisionTreeClassifier()</pre></div></div></div></div></div></div></div>"
            ]
          },
          "metadata": {},
          "execution_count": 112
        }
      ],
      "source": [
        "pipe.fit(X_train,y_train)"
      ]
    },
    {
      "cell_type": "code",
      "execution_count": 113,
      "id": "9c2b3986",
      "metadata": {
        "execution": {
          "iopub.execute_input": "2022-11-25T17:12:00.298245Z",
          "iopub.status.busy": "2022-11-25T17:12:00.297842Z",
          "iopub.status.idle": "2022-11-25T17:12:00.310593Z",
          "shell.execute_reply": "2022-11-25T17:12:00.309309Z"
        },
        "papermill": {
          "duration": 0.032788,
          "end_time": "2022-11-25T17:12:00.313085",
          "exception": false,
          "start_time": "2022-11-25T17:12:00.280297",
          "status": "completed"
        },
        "tags": [],
        "id": "9c2b3986",
        "colab": {
          "base_uri": "https://localhost:8080/"
        },
        "outputId": "99d92603-0540-47a0-c807-9b1648314490"
      },
      "outputs": [
        {
          "output_type": "execute_result",
          "data": {
            "text/plain": [
              "0.8379888268156425"
            ]
          },
          "metadata": {},
          "execution_count": 113
        }
      ],
      "source": [
        "# Accuracy Score on test data\n",
        "\n",
        "accuracy_score(y_test,pipe.predict(X_test))"
      ]
    },
    {
      "cell_type": "code",
      "execution_count": 114,
      "id": "bf10d667",
      "metadata": {
        "execution": {
          "iopub.execute_input": "2022-11-25T17:12:00.349013Z",
          "iopub.status.busy": "2022-11-25T17:12:00.348613Z",
          "iopub.status.idle": "2022-11-25T17:12:00.554214Z",
          "shell.execute_reply": "2022-11-25T17:12:00.552536Z"
        },
        "papermill": {
          "duration": 0.22781,
          "end_time": "2022-11-25T17:12:00.558316",
          "exception": false,
          "start_time": "2022-11-25T17:12:00.330506",
          "status": "completed"
        },
        "tags": [],
        "id": "bf10d667",
        "colab": {
          "base_uri": "https://localhost:8080/",
          "height": 850
        },
        "outputId": "eb6594ef-877d-4464-d9d4-82ca6de1107e"
      },
      "outputs": [
        {
          "output_type": "display_data",
          "data": {
            "text/plain": [
              "<Figure size 1000x1000 with 1 Axes>"
            ],
            "image/png": "[encoded data removed]"
          },
          "metadata": {}
        }
      ],
      "source": [
        "_= plt.figure(figsize = (10,10))\n",
        "cm = confusion_matrix(y_test,pipe.predict(X_test))\n",
        "ax = plt.gca()\n",
        "disp = ConfusionMatrixDisplay(\n",
        "                               confusion_matrix=cm,\n",
        "                               display_labels=pipe.classes_\n",
        "                             )\n",
        "\n",
        "_= disp.plot(ax=ax, colorbar = False)\n",
        "_= plt.show()"
      ]
    },
    {
      "cell_type": "code",
      "source": [
        "from sklearn.metrics import precision_score\n",
        "from sklearn.metrics import recall_score\n",
        "from sklearn.metrics import f1_score\n",
        "\n",
        "#calculating precision, recall & F1 score\n",
        "precision = precision_score(y_test, pipe.predict(X_test))\n",
        "recall = recall_score(y_test, pipe.predict(X_test))\n",
        "F1 = f1_score(y_test, pipe.predict(X_test))\n",
        "\n",
        "print('Precision: ',precision)\n",
        "print('Recall: ',recall)\n",
        "print('F1Score: ',F1)"
      ],
      "metadata": {
        "colab": {
          "base_uri": "https://localhost:8080/"
        },
        "id": "sIA25oS_bEkA",
        "outputId": "121f5d92-8192-4441-c74d-f90b00af63e8"
      },
      "id": "sIA25oS_bEkA",
      "execution_count": 115,
      "outputs": [
        {
          "output_type": "stream",
          "name": "stdout",
          "text": [
            "Precision:  0.8125\n",
            "Recall:  0.7536231884057971\n",
            "F1Score:  0.7819548872180452\n"
          ]
        }
      ]
    },
    {
      "cell_type": "code",
      "source": [
        "# I am done #"
      ],
      "metadata": {
        "id": "wtFHIdTXim4H"
      },
      "id": "wtFHIdTXim4H",
      "execution_count": 116,
      "outputs": []
    }
  ],
  "metadata": {
    "kernelspec": {
      "display_name": "Python 3",
      "language": "python",
      "name": "python3"
    },
    "language_info": {
      "codemirror_mode": {
        "name": "ipython",
        "version": 3
      },
      "file_extension": ".py",
      "mimetype": "text/x-python",
      "name": "python",
      "nbconvert_exporter": "python",
      "pygments_lexer": "ipython3",
      "version": "3.7.12"
    },
    "papermill": {
      "default_parameters": {},
      "duration": 17.78464,
      "end_time": "2022-11-25T17:12:02.796305",
      "environment_variables": {},
      "exception": null,
      "input_path": "__notebook__.ipynb",
      "output_path": "__notebook__.ipynb",
      "parameters": {},
      "start_time": "2022-11-25T17:11:45.011665",
      "version": "2.3.4"
    },
    "colab": {
      "provenance": []
    }
  },
  "nbformat": 4,
  "nbformat_minor": 5
}